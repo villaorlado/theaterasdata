{
 "cells": [
  {
   "cell_type": "markdown",
   "metadata": {},
   "source": [
    "# Location analysis of _wayang kulit_ performances in Java"
   ]
  },
  {
   "cell_type": "markdown",
   "metadata": {},
   "source": [
    "By Miguel Escobar Varela.\n",
    "\n",
    "This is the companion code to Chapter 4 of my book _Theater as data: Computational Journeys into theater research_ (University of Michigan Press, 2021).\n",
    "\n",
    "The book is openly accessible at https://doi.org/10.3998/mpub.11667458."
   ]
  },
  {
   "cell_type": "markdown",
   "metadata": {},
   "source": [
    "### *About Juypter and Python*"
   ]
  },
  {
   "cell_type": "markdown",
   "metadata": {},
   "source": [
    "The following is written as a step-by-step tutorial for users who want to reproduce the results presented in my book.\n",
    "\n",
    "This is an interactive Jupyter Notebook. For users not familiar with Python and Jupyter I recommend \n",
    "Allen Downey's excellent introductory materials at https://allendowney.github.io/ElementsOfDataScience/."
   ]
  },
  {
   "cell_type": "markdown",
   "metadata": {},
   "source": [
    "### 1 Importing the relevant libraries"
   ]
  },
  {
   "cell_type": "markdown",
   "metadata": {},
   "source": [
    "First, we import [Pandas](https://pandas.pydata.org/) to read the data into dataframes, as well as [Seaborn](https://seaborn.pydata.org/) and [Matplotlib](https://matplotlib.org/) for the visualizations. For this project we will also need [NumPy](https://numpy.org/about/) for numerical computing. "
   ]
  },
  {
   "cell_type": "code",
   "execution_count": 1,
   "metadata": {
    "scrolled": false
   },
   "outputs": [],
   "source": [
    "import pandas as pd\n",
    "import seaborn as sns\n",
    "import matplotlib.pyplot as plt\n",
    "import numpy as np"
   ]
  },
  {
   "cell_type": "markdown",
   "metadata": {},
   "source": [
    "The analysis carried out here also requires the Python Spatial Analysis Library (PySAL) package, which can be downloaded from [here](https://pysal.org/install).\n",
    "\n",
    "***Note**. Tho original code in the book's website used PySAL version 1.14.4, which requires many dependencies that are difficult to install. In 2024, I refactored the code to use a more recent version of the package (4.12.1), which requires an entirely different syntax."
   ]
  },
  {
   "cell_type": "code",
   "execution_count": 6,
   "metadata": {
    "scrolled": true
   },
   "outputs": [],
   "source": [
    "import pysal as ps\n",
    "from libpysal.weights import Queen, lag_spatial\n",
    "from esda.moran import Moran"
   ]
  },
  {
   "cell_type": "markdown",
   "metadata": {},
   "source": [
    "### 2 Importing the data"
   ]
  },
  {
   "cell_type": "markdown",
   "metadata": {},
   "source": [
    "We will use the **7.3_performancePerRegency.csv** file included under the book's data at Fulcrum."
   ]
  },
  {
   "cell_type": "markdown",
   "metadata": {},
   "source": [
    "This file includes the average number of performance for each regency in Java, Indonesia, between 2016 and 2019."
   ]
  },
  {
   "cell_type": "markdown",
   "metadata": {},
   "source": [
    "The data was obtained from [Kluban](http://kluban.net). I used the Python [BeautifulSoup](https://www.crummy.com/software/BeautifulSoup/bs4/doc/) package to scrap the website and then format the results into a CSV file. For more on the context of this research project see Chapter 7 of _Theater as Data_."
   ]
  },
  {
   "cell_type": "markdown",
   "metadata": {},
   "source": [
    "With the following code, we will read the CSV file into a data frame called **df**. The syntax assumes that the CSV is under a directory called **data/ch7**."
   ]
  },
  {
   "cell_type": "code",
   "execution_count": 2,
   "metadata": {},
   "outputs": [],
   "source": [
    "df = pd.read_csv(\"../../data/ch7/7_3_performancesPerRegency.csv\")"
   ]
  },
  {
   "cell_type": "markdown",
   "metadata": {},
   "source": [
    "To get a sense of the data, we can use the **head()** function to display the first 5 rows of the dataframe."
   ]
  },
  {
   "cell_type": "code",
   "execution_count": 3,
   "metadata": {
    "scrolled": false
   },
   "outputs": [
    {
     "data": {
      "text/html": [
       "<div>\n",
       "<style scoped>\n",
       "    .dataframe tbody tr th:only-of-type {\n",
       "        vertical-align: middle;\n",
       "    }\n",
       "\n",
       "    .dataframe tbody tr th {\n",
       "        vertical-align: top;\n",
       "    }\n",
       "\n",
       "    .dataframe thead th {\n",
       "        text-align: right;\n",
       "    }\n",
       "</style>\n",
       "<table border=\"1\" class=\"dataframe\">\n",
       "  <thead>\n",
       "    <tr style=\"text-align: right;\">\n",
       "      <th></th>\n",
       "      <th>regency</th>\n",
       "      <th>performances</th>\n",
       "    </tr>\n",
       "  </thead>\n",
       "  <tbody>\n",
       "    <tr>\n",
       "      <th>0</th>\n",
       "      <td>Boyolali</td>\n",
       "      <td>165</td>\n",
       "    </tr>\n",
       "    <tr>\n",
       "      <th>1</th>\n",
       "      <td>Blitar_Kota</td>\n",
       "      <td>0</td>\n",
       "    </tr>\n",
       "    <tr>\n",
       "      <th>2</th>\n",
       "      <td>Malang_Kota</td>\n",
       "      <td>15</td>\n",
       "    </tr>\n",
       "    <tr>\n",
       "      <th>3</th>\n",
       "      <td>Blora</td>\n",
       "      <td>88</td>\n",
       "    </tr>\n",
       "    <tr>\n",
       "      <th>4</th>\n",
       "      <td>Sleman</td>\n",
       "      <td>177</td>\n",
       "    </tr>\n",
       "  </tbody>\n",
       "</table>\n",
       "</div>"
      ],
      "text/plain": [
       "       regency  performances\n",
       "0     Boyolali           165\n",
       "1  Blitar_Kota             0\n",
       "2  Malang_Kota            15\n",
       "3        Blora            88\n",
       "4       Sleman           177"
      ]
     },
     "execution_count": 3,
     "metadata": {},
     "output_type": "execute_result"
    }
   ],
   "source": [
    "df.head()"
   ]
  },
  {
   "cell_type": "markdown",
   "metadata": {},
   "source": [
    "We can set \"regency\" as the index of this dataframe."
   ]
  },
  {
   "cell_type": "code",
   "execution_count": 4,
   "metadata": {},
   "outputs": [],
   "source": [
    "df.set_index(\"regency\",inplace=True)"
   ]
  },
  {
   "cell_type": "markdown",
   "metadata": {},
   "source": [
    "### 3 Calculating Moran's _I_"
   ]
  },
  {
   "cell_type": "markdown",
   "metadata": {},
   "source": [
    "Our objective is to determine whether geographical proximity affects a given variable (the number of performances). As described in Chapter 6 of _Theater as Data_ this is called _spatial autocorrelation_. The most common statistic used for this purpose is Moran’s _I_ (Moran 1948), which estimates the probability that a value for a geographical unit is affected by the average value of neighboring units."
   ]
  },
  {
   "cell_type": "markdown",
   "metadata": {},
   "source": [
    "To figure this out, we need a list that includes all neighbors for each regency. Neighbors are defined here as those regions which border the regency in question. Using a nomenclature borrowed from chess, this is called *queen contiguity* (as opposed to *bishop contiguity*). To calculate this we can use the function **queen_from_shapefile()** from PySAL. Using this function we load the Java shapefile (also available via Fulcrum) and assign it to a variable called **queen**.\n",
    "\n",
    "***Note**. For the shapefile to be loaded correctly all the files under the **java/** folder in Fulcrum need to be in the folder, not just java.shp."
   ]
  },
  {
   "cell_type": "code",
   "execution_count": 7,
   "metadata": {
    "scrolled": true
   },
   "outputs": [
    {
     "name": "stderr",
     "output_type": "stream",
     "text": [
      "/Library/Frameworks/Python.framework/Versions/3.11/lib/python3.11/site-packages/libpysal/io/iohandlers/pyShpIO.py:247: FutureWarning: Objects based on the `Geometry` class will deprecated and removed in a future version of libpysal.\n",
      "  shp = self.type(vertices)\n",
      "/Library/Frameworks/Python.framework/Versions/3.11/lib/python3.11/site-packages/libpysal/cg/shapes.py:1408: FutureWarning: Objects based on the `Geometry` class will deprecated and removed in a future version of libpysal.\n",
      "  self._part_rings = [Ring(vertices)]\n",
      "/Library/Frameworks/Python.framework/Versions/3.11/lib/python3.11/site-packages/libpysal/io/iohandlers/pyShpIO.py:232: FutureWarning: Objects based on the `Geometry` class will deprecated and removed in a future version of libpysal.\n",
      "  shp = self.type(vertices, holes)\n",
      "/Library/Frameworks/Python.framework/Versions/3.11/lib/python3.11/site-packages/libpysal/cg/shapes.py:1405: FutureWarning: Objects based on the `Geometry` class will deprecated and removed in a future version of libpysal.\n",
      "  self._part_rings = list(map(Ring, vertices))\n",
      "/Library/Frameworks/Python.framework/Versions/3.11/lib/python3.11/site-packages/libpysal/cg/shapes.py:1412: FutureWarning: Objects based on the `Geometry` class will deprecated and removed in a future version of libpysal.\n",
      "  self._hole_rings = list(map(Ring, holes))\n",
      "/Library/Frameworks/Python.framework/Versions/3.11/lib/python3.11/site-packages/libpysal/weights/contiguity.py:347: UserWarning: The weights matrix is not fully connected: \n",
      " There are 2 disconnected components.\n",
      "  W.__init__(self, neighbors, ids=ids, **kw)\n"
     ]
    }
   ],
   "source": [
    "queen = Queen.from_shapefile(\"../../data/ch7/java/java.shp\")"
   ]
  },
  {
   "cell_type": "markdown",
   "metadata": {},
   "source": [
    "To combine this contiguity matrix with the performance data, we first need to rotate the matrix using **.transform = 'r'**"
   ]
  },
  {
   "cell_type": "code",
   "execution_count": 8,
   "metadata": {},
   "outputs": [],
   "source": [
    "queen.transform = 'r'"
   ]
  },
  {
   "cell_type": "markdown",
   "metadata": {},
   "source": [
    "The next step is to calculate the spatial lag for the total number of performances using the **lag_spatial()** function from PySAL."
   ]
  },
  {
   "cell_type": "code",
   "execution_count": 12,
   "metadata": {},
   "outputs": [],
   "source": [
    "perf = df.performances\n",
    "perf_lag = lag_spatial(queen, perf)"
   ]
  },
  {
   "cell_type": "markdown",
   "metadata": {},
   "source": [
    "As explained in Chapter 7 of *Theater as Data*, Moran's *I* can be understood as the slope of the regression line between the number of performances and the spatial lag of this variable. To visualize this line, we can use NumPY to calculate a polynomial fitting line for the number of perfornaces (**perf**) and it's spatial lag (**perf_lag**)."
   ]
  },
  {
   "cell_type": "code",
   "execution_count": 15,
   "metadata": {},
   "outputs": [],
   "source": [
    "b,a = np.polyfit(perf, perf_lag, 1)"
   ]
  },
  {
   "cell_type": "code",
   "execution_count": 16,
   "metadata": {},
   "outputs": [
    {
     "name": "stdout",
     "output_type": "stream",
     "text": [
      "108.88339226330983 0.17333687206403506\n"
     ]
    }
   ],
   "source": [
    "print(a,b)"
   ]
  },
  {
   "cell_type": "code",
   "execution_count": 17,
   "metadata": {
    "scrolled": true
   },
   "outputs": [
    {
     "name": "stdout",
     "output_type": "stream",
     "text": [
      "108.88339226330983 0.17333687206403506\n"
     ]
    }
   ],
   "source": [
    "print(a,b)"
   ]
  },
  {
   "cell_type": "markdown",
   "metadata": {},
   "source": [
    "**a** gives us the \"y intercept\" of this line, and **b** its slope (which is equivalent to Moran's *I*)."
   ]
  },
  {
   "cell_type": "markdown",
   "metadata": {},
   "source": [
    "To better understand this, we can generate a scatterplot of the number of performances and their spatial lag, and overlay the polynomial fitting line on top of this scatterplot."
   ]
  },
  {
   "cell_type": "code",
   "execution_count": 19,
   "metadata": {},
   "outputs": [
    {
     "data": {
      "image/png": "[encoded data removed]",
      "text/plain": [
       "<Figure size 800x500 with 1 Axes>"
      ]
     },
     "metadata": {},
     "output_type": "display_data"
    }
   ],
   "source": [
    "f, ax = plt.subplots(1,figsize=(8, 5))\n",
    "\n",
    "#the dots in the scatterplot, with a transparency of alpha = 0.6\n",
    "plt.plot(perf, perf_lag, 'o', alpha=0.6)\n",
    "\n",
    "#the regression line\n",
    "plt.plot(perf, a + b*perf,\"black\",linestyle=\"-\")\n",
    "\n",
    "#the labels\n",
    "plt.ylabel('Spatial Lag of total performances')\n",
    "plt.xlabel('Total performances')\n",
    "plt.show()"
   ]
  },
  {
   "cell_type": "markdown",
   "metadata": {},
   "source": [
    "We can also calculate Moran's I directly from PySAL, using the **Moran()** function."
   ]
  },
  {
   "cell_type": "code",
   "execution_count": 21,
   "metadata": {},
   "outputs": [],
   "source": [
    "I_perf = Moran(perf, queen)"
   ]
  },
  {
   "cell_type": "markdown",
   "metadata": {},
   "source": [
    "We can inspect the _I_ value with the following instruciton:"
   ]
  },
  {
   "cell_type": "code",
   "execution_count": 23,
   "metadata": {},
   "outputs": [
    {
     "data": {
      "text/plain": [
       "0.17333687206403495"
      ]
     },
     "execution_count": 23,
     "metadata": {},
     "output_type": "execute_result"
    }
   ],
   "source": [
    "I_perf.I"
   ]
  },
  {
   "cell_type": "markdown",
   "metadata": {},
   "source": [
    "As we can see, this is the same value as the regression line, which we calculated above."
   ]
  },
  {
   "cell_type": "markdown",
   "metadata": {},
   "source": [
    "In addition to the _I_ value, PySAL, also gives us a _p_-value. This is obtained from a series of 999 simulations based on the existing data, so it can be more accurately described as a *pseudo p*-value. To display this value, we can use **.p_sim**."
   ]
  },
  {
   "cell_type": "code",
   "execution_count": 24,
   "metadata": {},
   "outputs": [
    {
     "data": {
      "text/plain": [
       "0.003"
      ]
     },
     "execution_count": 24,
     "metadata": {},
     "output_type": "execute_result"
    }
   ],
   "source": [
    "I_perf.p_sim"
   ]
  },
  {
   "cell_type": "markdown",
   "metadata": {},
   "source": [
    "***Note**. Since this is based on simulations, the actual value might change slightly when run in a different computer, and it might be slightly different from what is reported in *Theater as Data*, but it should be reasonably close to that number."
   ]
  },
  {
   "cell_type": "markdown",
   "metadata": {},
   "source": [
    "We can also manually inspect all the _I_ values generated during the simulations, with **.sim**."
   ]
  },
  {
   "cell_type": "code",
   "execution_count": 25,
   "metadata": {
    "scrolled": true
   },
   "outputs": [
    {
     "data": {
      "text/plain": [
       "array([-3.70122078e-02,  2.89719460e-02,  1.48393309e-02,  3.39678160e-02,\n",
       "       -4.81568644e-02,  4.95232444e-02, -7.00790797e-03,  5.43297868e-02,\n",
       "       -3.29529602e-02, -5.51273239e-02, -1.69739955e-02, -4.27213028e-02,\n",
       "        9.20201869e-03, -3.59152905e-02,  1.88113051e-03, -1.99127494e-02,\n",
       "       -7.53386650e-03, -1.59693405e-02, -5.27190932e-02, -7.88261643e-02,\n",
       "       -1.96740500e-03,  1.51793395e-02, -1.88291189e-02,  1.23502752e-01,\n",
       "        7.00184652e-02,  1.02681820e-01,  5.03035096e-02, -1.81287072e-02,\n",
       "       -4.16056694e-02, -4.00584587e-02,  1.12801389e-02,  6.63328292e-02,\n",
       "       -5.94814234e-02,  6.45104567e-02, -5.19224383e-02, -1.83161159e-03,\n",
       "        2.68708207e-02, -7.34008308e-02,  3.84421750e-02, -6.02440591e-02,\n",
       "       -2.95933975e-02, -6.10522752e-03,  4.84313510e-03,  2.15024693e-02,\n",
       "       -2.41930958e-02, -3.59813709e-02, -9.22919026e-03,  2.59488420e-02,\n",
       "       -3.59326137e-05,  1.26766529e-01, -6.62985968e-02, -3.48715283e-02,\n",
       "       -2.47799132e-02, -3.75160381e-02, -5.92551264e-02, -2.00424842e-02,\n",
       "        4.13464202e-02, -2.73004520e-02, -4.11982171e-02, -7.39831721e-02,\n",
       "        1.13465259e-03, -6.64565715e-02,  3.52229693e-02, -6.13068994e-02,\n",
       "       -3.84645458e-02, -8.11190974e-02, -4.79097804e-02,  7.98606566e-02,\n",
       "       -3.55527707e-02, -4.96043653e-02,  7.21474470e-03, -2.82785228e-02,\n",
       "        5.63254786e-02,  1.53218428e-02,  2.44244701e-02, -3.60743708e-02,\n",
       "       -5.81588098e-02,  1.14294329e-02,  6.67562960e-02, -3.13005564e-02,\n",
       "       -3.54024414e-02, -2.69922815e-02, -6.51827863e-02,  1.25604870e-01,\n",
       "       -4.75727521e-02, -4.35717915e-03,  4.11683058e-02, -2.39774012e-02,\n",
       "       -2.17178207e-02,  1.85548586e-02, -6.42706805e-02, -7.12116119e-03,\n",
       "        2.05345438e-02, -3.11003220e-02, -6.64632440e-02, -8.92106764e-03,\n",
       "        5.13682492e-02, -6.27482752e-02, -1.61700403e-02, -1.68306567e-02,\n",
       "       -2.28505680e-02,  3.59519500e-02, -8.52437058e-03,  6.86483590e-04,\n",
       "        7.87851247e-02,  7.58800848e-02, -3.02265072e-02, -3.07020761e-02,\n",
       "       -8.37386105e-02,  1.17746106e-01,  4.96865707e-03, -2.41694241e-02,\n",
       "       -1.11467770e-01, -5.30736369e-02, -4.37787052e-02, -5.28132897e-02,\n",
       "       -1.74629412e-02, -5.67831130e-02, -1.29665198e-02, -2.22111483e-02,\n",
       "       -8.48534308e-03, -1.70163189e-03, -3.79165292e-02,  1.10327663e-01,\n",
       "        8.48238029e-03,  1.19770669e-02, -8.26889705e-02,  3.84465391e-03,\n",
       "        4.19916121e-02,  2.48762656e-02,  8.84590906e-02,  6.53314562e-02,\n",
       "       -6.35010041e-03, -4.81040585e-02, -5.58534004e-02,  9.65637202e-03,\n",
       "        1.24562499e-01, -5.81132103e-02, -7.31787215e-02, -7.77330044e-02,\n",
       "        3.10296050e-02,  9.78987760e-02,  5.56153877e-03, -2.31858983e-03,\n",
       "       -7.35472576e-02, -3.87621245e-02, -6.00077139e-04, -2.17024374e-02,\n",
       "        1.07735336e-02, -8.33109942e-02, -5.11380868e-02,  2.88125076e-02,\n",
       "       -4.52877848e-02,  1.88174578e-02, -4.41061663e-02,  2.13025714e-02,\n",
       "       -6.04944858e-02, -5.00669885e-02,  9.18119777e-02, -5.65691029e-02,\n",
       "        6.38827763e-02,  1.93787420e-02, -6.67426929e-02,  1.12812277e-02,\n",
       "       -4.96140127e-02,  9.44836412e-02, -2.30147363e-02,  7.42531368e-02,\n",
       "       -5.61088851e-02, -1.22376018e-02, -5.89573054e-02,  4.33975742e-02,\n",
       "       -1.18372278e-02, -5.84341917e-02, -4.96963529e-02,  8.34307799e-04,\n",
       "        6.11944360e-02, -1.86765018e-02, -8.30272736e-02,  1.24469497e-02,\n",
       "       -4.16261122e-02, -4.08208355e-02,  2.21495189e-02, -2.85878810e-02,\n",
       "       -2.79274818e-02, -1.01610863e-01, -1.41373693e-02, -6.15964762e-02,\n",
       "       -5.06052119e-02,  3.30779206e-02, -4.46083536e-02, -4.28533906e-02,\n",
       "       -2.01906348e-02,  4.14635351e-03, -2.50894089e-03, -3.60523128e-02,\n",
       "        3.74628748e-02,  4.25174996e-02, -1.03998481e-01, -7.38070627e-02,\n",
       "       -5.91731404e-02,  4.87564688e-02, -7.29040295e-02, -6.80065625e-02,\n",
       "       -7.85834454e-02,  1.17668478e-01, -2.19773604e-02, -1.07936021e-02,\n",
       "       -3.71129934e-02, -2.78158179e-02, -3.45694545e-02, -4.36522109e-02,\n",
       "       -4.44779393e-02, -2.08891826e-02, -2.40857813e-02, -2.55806178e-02,\n",
       "        1.92058470e-02, -3.63802623e-02,  2.01945427e-02, -2.11966944e-02,\n",
       "        2.64795313e-02,  1.46284116e-02,  1.27435723e-01, -3.09678029e-02,\n",
       "        6.14710477e-03, -3.94427805e-02, -4.02076599e-02, -5.86890930e-02,\n",
       "       -8.65864117e-02,  1.20467540e-01, -5.27457288e-02, -3.57225479e-02,\n",
       "       -2.38883608e-03,  4.60354427e-02, -2.12089139e-02, -2.55700707e-02,\n",
       "       -6.37415599e-02, -3.65595043e-02,  1.92485882e-02,  5.74040619e-02,\n",
       "       -2.48481780e-02, -5.17084621e-02, -1.52818606e-02,  4.72021918e-03,\n",
       "       -2.53903779e-02, -3.17037277e-02,  2.86594419e-02, -2.79666719e-02,\n",
       "       -7.09205859e-02,  7.88067344e-02, -4.00891627e-02, -1.46471157e-02,\n",
       "       -3.90300215e-02,  5.91529378e-02,  1.46263562e-03, -1.18560782e-02,\n",
       "        2.51772433e-01,  4.03123437e-02, -4.40999640e-02, -5.37286066e-02,\n",
       "       -1.87375150e-02, -3.48044114e-02,  9.16678936e-02,  1.40532803e-02,\n",
       "        9.14094780e-02, -5.20115256e-02, -3.08249371e-03,  4.21385543e-02,\n",
       "       -8.00052621e-02, -4.83261617e-02,  2.90564386e-04, -4.74967743e-02,\n",
       "        4.30117061e-03,  1.21586498e-03, -1.79383253e-02, -9.49290229e-02,\n",
       "       -5.12967920e-02,  1.43908674e-01, -3.59113277e-02, -4.08623079e-02,\n",
       "       -2.52188057e-02, -2.01339088e-02, -2.97630298e-02, -1.83642972e-02,\n",
       "       -2.66781357e-02, -1.35724754e-02, -2.12831226e-03,  2.44186882e-02,\n",
       "       -1.60733059e-02, -7.16062395e-02, -4.98334680e-02, -5.35954910e-02,\n",
       "       -3.80540538e-02,  1.19378127e-01,  1.14051761e-01,  4.00159617e-02,\n",
       "        1.23263468e-02,  7.40971823e-02, -3.74458924e-02, -5.93898922e-02,\n",
       "        6.43649982e-02, -2.67260647e-02, -1.57208245e-02, -3.41784050e-02,\n",
       "       -9.33608909e-02, -5.74271315e-02, -3.18432744e-02,  1.43168999e-01,\n",
       "        1.11737073e-01, -2.41472533e-02,  6.30740180e-03, -5.71699485e-02,\n",
       "        4.20158755e-03,  7.73764327e-02, -6.14676729e-02,  1.03500613e-01,\n",
       "       -1.99296859e-02, -5.81001292e-02, -3.47049316e-02, -7.86780186e-02,\n",
       "       -4.92529058e-02, -1.93217283e-02, -7.28094210e-03, -6.13335976e-02,\n",
       "        6.05011560e-03,  1.11134053e-03, -4.30413607e-02,  2.88470605e-03,\n",
       "       -3.48481730e-02,  1.94720071e-02, -1.75231311e-03, -9.43933818e-02,\n",
       "       -7.41412965e-02, -2.00772915e-02, -6.22334010e-02, -4.53420943e-02,\n",
       "       -1.78073568e-02, -2.68539366e-02, -8.93190830e-03,  1.04827175e-02,\n",
       "        1.14815356e-02, -5.91838709e-02, -5.64905965e-02, -3.16209090e-02,\n",
       "       -2.42675723e-02, -7.04785698e-02, -6.64622823e-02,  1.59950065e-03,\n",
       "       -2.35631255e-02,  4.91471130e-02, -3.72285440e-03,  6.20262168e-02,\n",
       "       -2.74275865e-02, -4.16674719e-02,  6.77694099e-02, -1.85380755e-02,\n",
       "       -4.30023935e-02, -4.18041612e-02,  3.22816321e-02, -3.67459560e-02,\n",
       "       -3.36235445e-02, -2.28715856e-02,  4.59902851e-02, -5.99181892e-02,\n",
       "       -4.56359546e-02,  3.99354645e-02,  4.58727009e-02,  3.68742061e-02,\n",
       "       -2.93366190e-02,  8.80659456e-02, -3.00932512e-02,  3.59427532e-02,\n",
       "       -3.98948695e-02, -8.76424574e-02, -3.07804866e-03,  3.20732078e-02,\n",
       "       -6.30532614e-02,  7.23442949e-02, -1.33162465e-02, -4.32756003e-02,\n",
       "       -6.64683433e-02, -2.89378450e-02, -1.00814749e-01, -3.03804218e-02,\n",
       "       -1.84553550e-03, -5.32054647e-02,  1.07334317e-02, -2.96438629e-02,\n",
       "       -2.35207437e-02,  1.94508873e-02, -1.88802782e-02, -4.56719503e-02,\n",
       "       -7.69367126e-02,  1.16648547e-02, -7.47472778e-02,  1.97424622e-02,\n",
       "       -4.05216503e-02, -6.78604748e-03, -1.30775837e-02, -3.36758491e-02,\n",
       "        5.43358265e-02,  6.24888605e-02, -3.34996783e-02, -3.87882513e-02,\n",
       "       -1.71135820e-02,  8.52585475e-02, -3.67180016e-02, -6.61771868e-02,\n",
       "        9.63378290e-03,  1.49893370e-02, -1.80732615e-02, -7.53848004e-02,\n",
       "       -2.07834044e-02, -3.83376828e-02, -1.48748893e-02, -3.75746947e-02,\n",
       "       -5.39121162e-02, -5.75622327e-02,  1.70637694e-01, -5.21618966e-02,\n",
       "        1.07494777e-02,  5.68422204e-02, -5.68890402e-02, -3.90605353e-02,\n",
       "       -7.07760696e-03, -8.73927399e-03, -4.12103968e-02, -3.64082090e-02,\n",
       "       -2.16846160e-02, -2.23669212e-02,  2.45974901e-02,  5.15274447e-02,\n",
       "       -2.46655274e-02, -1.63223508e-02, -5.32050482e-02,  9.52783408e-03,\n",
       "        1.03485278e-02, -4.04850181e-02, -3.59603964e-02, -1.92525781e-02,\n",
       "        3.46586906e-02, -7.32306697e-03, -4.73933559e-02, -1.94288851e-02,\n",
       "        2.80429380e-02,  3.86540340e-02,  2.67399774e-02, -4.43912573e-02,\n",
       "       -8.48526117e-02,  1.58922394e-02,  4.24161673e-02, -4.10026810e-02,\n",
       "        3.57721471e-02, -1.47256086e-02, -8.21761239e-03, -3.09341573e-02,\n",
       "        1.14863744e-02, -7.05059840e-02, -4.43846261e-02, -3.97077221e-02,\n",
       "        4.72160338e-02, -4.02520456e-02, -4.10568082e-02, -4.26617036e-02,\n",
       "       -2.58401536e-02,  4.33617088e-02,  5.98653433e-02, -2.29609602e-02,\n",
       "        3.06293564e-02, -5.01892577e-02, -4.76130016e-02, -4.50732344e-02,\n",
       "       -3.44779306e-02,  2.78886319e-02, -6.65687204e-02,  1.89846639e-03,\n",
       "       -6.50609658e-02,  1.53661544e-02, -7.43034414e-02,  9.75767049e-02,\n",
       "       -1.05192139e-01,  4.00225900e-02, -3.28858201e-02, -5.08216900e-02,\n",
       "       -7.13133717e-02,  2.60595756e-02,  3.27550694e-02,  4.50465782e-02,\n",
       "       -7.64695689e-03, -4.41184394e-02,  8.75415623e-02,  1.04638695e-01,\n",
       "       -5.13387257e-02, -5.02466125e-02, -5.48411581e-02, -6.99294905e-05,\n",
       "       -6.07355835e-02, -6.89939429e-02,  9.58926185e-03, -9.44979925e-03,\n",
       "       -4.34384108e-03, -8.65435671e-02, -5.07419614e-02, -3.15375244e-02,\n",
       "        3.74386758e-02, -3.35868851e-04, -4.29823085e-02, -4.03219526e-02,\n",
       "       -2.68835386e-02, -5.27486384e-02,  9.51020430e-02,  1.41792509e-01,\n",
       "       -5.26882971e-02, -7.05698018e-02, -6.02463019e-02, -3.42749460e-02,\n",
       "       -8.08200567e-03, -3.52822597e-03, -4.39290084e-02, -3.40635722e-02,\n",
       "       -1.55531601e-02, -7.55049634e-02, -3.43496793e-02, -8.36898888e-02,\n",
       "        1.28719026e-01, -2.37076479e-02, -2.03571152e-02, -5.76102102e-03,\n",
       "        1.42098370e-01, -1.42726225e-02, -5.36190699e-02, -2.02827996e-02,\n",
       "       -5.28043938e-02, -5.70598928e-02,  1.54045982e-02,  2.86285737e-02,\n",
       "       -7.62180414e-02, -6.11779614e-02,  4.88404030e-02, -7.13168034e-02,\n",
       "       -2.14343093e-02, -6.11897231e-02, -2.93321874e-02, -4.51581589e-02,\n",
       "        2.32730311e-02, -6.31845193e-03,  1.69813219e-03, -7.47227188e-03,\n",
       "        7.18957695e-02,  1.18780575e-02, -4.85023226e-02, -3.71548975e-02,\n",
       "       -7.38563170e-02, -6.74760908e-02, -4.71945655e-02, -2.20177178e-02,\n",
       "        5.25309422e-02, -5.67761398e-03,  1.01378987e-03,  1.02933160e-01,\n",
       "       -5.10677823e-03,  1.28979897e-02, -2.09458783e-02, -4.44932680e-02,\n",
       "        5.20059550e-02, -3.61564028e-02, -5.02176946e-02, -4.15277442e-02,\n",
       "       -3.55288227e-02, -7.11012157e-02,  1.19043805e-02,  3.58309818e-02,\n",
       "       -2.59124645e-03,  8.27893448e-02, -4.01765003e-02, -6.45111747e-02,\n",
       "       -1.44659546e-02, -7.12219667e-02, -2.57425495e-02,  1.26348310e-01,\n",
       "       -3.26382912e-02, -2.57327238e-02, -3.47416146e-02, -4.45747680e-02,\n",
       "       -3.60666074e-02,  5.93864549e-03, -6.73326445e-04, -5.58762745e-02,\n",
       "       -2.93744997e-02, -1.84282906e-02, -6.56868498e-02, -4.77795793e-02,\n",
       "        8.14128951e-02, -3.18463138e-02, -1.76591166e-03,  3.96648680e-02,\n",
       "       -8.60901007e-03, -1.07810191e-01, -2.87926432e-02, -1.19325172e-02,\n",
       "       -4.51659407e-02, -7.78216064e-02, -5.97704421e-02, -4.33912126e-02,\n",
       "       -3.82515389e-02,  1.02765223e-01, -2.54162310e-03,  3.59672046e-02,\n",
       "       -1.25203876e-02,  2.02880739e-02, -4.65517039e-03, -1.67664150e-02,\n",
       "        1.19400631e-02,  7.41370682e-02, -4.42570859e-02,  3.64770662e-03,\n",
       "       -3.41060372e-02, -3.93237998e-02,  4.50534468e-02, -3.50853913e-02,\n",
       "       -1.73496763e-03, -2.79105328e-02, -7.98426862e-03, -6.34071760e-03,\n",
       "       -1.83801348e-03, -2.60863738e-02,  4.07824001e-02, -4.26690159e-02,\n",
       "        1.20909988e-02,  1.78934216e-02, -1.12772751e-02,  8.54209211e-02,\n",
       "       -6.14919693e-02, -4.34133782e-03, -2.72084499e-02, -1.70419660e-03,\n",
       "       -3.58643521e-02, -3.71907648e-02, -2.87889090e-02, -6.91117678e-02,\n",
       "       -8.03575496e-02, -3.06949122e-02, -1.33984558e-02,  3.09607784e-02,\n",
       "       -2.96091045e-02, -1.54108396e-03,  2.58934597e-02, -3.17733006e-02,\n",
       "       -2.51822289e-02,  1.07027484e-01, -4.65075176e-03, -4.90334034e-02,\n",
       "        1.60391334e-02, -6.76751447e-03, -3.48839988e-02, -1.30654612e-02,\n",
       "       -3.41913290e-02,  9.46961612e-03, -5.79271151e-02, -6.44323404e-02,\n",
       "       -2.90162218e-02, -4.18984221e-02,  5.57474406e-03, -5.95060734e-02,\n",
       "       -4.17831610e-02, -1.11818858e-02,  1.23240330e-02, -6.42096212e-03,\n",
       "        2.45495145e-02, -7.07117766e-02, -6.94720585e-02,  1.11096906e-02,\n",
       "       -4.02529903e-02,  9.33700192e-02,  1.19046369e-01, -1.30534931e-02,\n",
       "       -1.20714981e-02, -6.28925438e-03, -5.03310132e-02, -2.84393957e-02,\n",
       "       -6.29200720e-02, -1.69713798e-02,  6.59290000e-02, -2.76788430e-02,\n",
       "        1.41699018e-01, -7.70786266e-02, -1.13853239e-02, -3.25903321e-02,\n",
       "       -6.75702595e-02,  2.37323770e-02,  7.71442258e-02,  6.70831172e-02,\n",
       "       -7.06605996e-02,  2.87102386e-02, -2.40583314e-02,  1.38860514e-02,\n",
       "        3.95313562e-03, -1.55373328e-03, -2.12058705e-02,  3.90462454e-02,\n",
       "       -1.32316615e-02, -1.11162798e-02, -2.10186723e-02, -2.96556985e-02,\n",
       "       -3.99203437e-02,  3.29856957e-02,  2.45996798e-02, -1.56873047e-02,\n",
       "       -4.19937516e-02, -4.88520805e-02,  1.57002681e-02, -3.34848756e-02,\n",
       "       -7.40563367e-02, -3.31722792e-02, -1.49670266e-02,  1.30488830e-02,\n",
       "        8.22164091e-02,  8.62432174e-03,  6.37077458e-02, -1.84445801e-02,\n",
       "       -8.24897068e-02, -6.81107724e-03, -2.15045430e-02,  8.93131243e-02,\n",
       "       -1.04303885e-01, -5.33701979e-02, -3.66930933e-02,  8.86960056e-02,\n",
       "       -5.39714953e-02, -4.63409288e-02, -2.14497884e-02, -1.03375259e-02,\n",
       "       -4.78582026e-03,  2.76279925e-02, -2.49723586e-02, -1.06227886e-02,\n",
       "       -1.85542356e-02, -5.34544430e-02, -6.01366218e-02,  1.41136202e-01,\n",
       "       -8.45305673e-02, -5.14637681e-02, -2.91887639e-02, -2.24167796e-02,\n",
       "       -2.82945785e-02,  9.38147002e-03, -2.47009608e-02, -5.61139459e-02,\n",
       "       -3.51814695e-02, -4.13673427e-02,  2.16443912e-02, -4.06104673e-02,\n",
       "       -3.44858974e-02,  1.24553629e-02, -6.69614252e-02,  1.07777083e-02,\n",
       "        4.28005093e-02, -1.42323125e-02, -7.13713657e-03,  3.74159197e-04,\n",
       "       -6.87760523e-02, -2.89772428e-02, -2.30286165e-02,  2.27294443e-02,\n",
       "        1.35717690e-01,  1.24912527e-05,  7.04514026e-03, -8.20924306e-02,\n",
       "       -4.77256764e-02,  4.83678870e-02, -2.65305622e-02, -5.10506437e-02,\n",
       "        2.63461918e-02,  1.53403853e-02, -1.45693252e-02, -2.28494402e-02,\n",
       "       -5.13306819e-02, -2.93114497e-02, -5.89152607e-02,  9.72941255e-02,\n",
       "       -4.82200859e-03, -4.75528301e-02, -4.41060279e-03, -1.12452454e-02,\n",
       "       -8.15110344e-02, -3.24770416e-02, -4.11035160e-02, -7.54725360e-02,\n",
       "       -1.45658586e-02,  9.07556692e-02, -7.25430787e-02, -3.67309555e-02,\n",
       "        9.70261418e-03, -6.56469409e-02, -3.97492690e-02, -2.80794799e-02,\n",
       "       -9.81901355e-03,  2.04311028e-02, -7.32357485e-02,  9.35229413e-02,\n",
       "        1.60561237e-01, -4.56870824e-02,  1.09068023e-01, -4.33883258e-02,\n",
       "        7.25490045e-03, -1.99842897e-02, -2.20367115e-02, -2.00094216e-02,\n",
       "       -1.39454156e-02, -3.72700341e-02, -3.10335069e-02, -5.31932628e-02,\n",
       "       -5.10336089e-02, -4.07594157e-02, -2.66556002e-02, -1.20539990e-02,\n",
       "        3.46450962e-02,  4.58772963e-02, -6.43860852e-02, -7.25977543e-02,\n",
       "        1.23804939e-01, -1.39134647e-02, -4.30309416e-02, -1.21555598e-03,\n",
       "       -4.11499895e-02,  4.96267536e-02, -2.21604496e-02,  1.08063172e-02,\n",
       "       -5.98828806e-02, -2.11615864e-02,  1.28312008e-01,  2.11889875e-02,\n",
       "        8.04874613e-02, -3.94807463e-02,  6.05069375e-02,  3.12724594e-02,\n",
       "       -3.52632679e-02,  5.07210121e-02, -5.95444605e-02,  5.08882789e-02,\n",
       "       -5.14572806e-02,  1.53239652e-02, -4.48796160e-02, -5.23597565e-03,\n",
       "        4.88284275e-02,  2.50251288e-03,  3.40700006e-02,  1.29538078e-01,\n",
       "        1.23088482e-01, -5.16679880e-02, -1.21852121e-02, -2.08836474e-02,\n",
       "        9.54832488e-02, -4.63572123e-02, -4.65985014e-02, -6.77899687e-02,\n",
       "       -4.25131213e-02, -3.25659235e-02,  5.17284102e-02,  2.99693319e-02,\n",
       "       -1.67821532e-02, -7.65606482e-03, -4.67330314e-02,  3.69037314e-02,\n",
       "        2.94222651e-02, -2.36267741e-02,  1.18684382e-02,  5.35391159e-02,\n",
       "        1.94498289e-01, -6.12226308e-02, -2.00335105e-02, -1.87168205e-03,\n",
       "       -1.78797903e-02,  3.04250031e-04, -5.83092301e-02,  8.19170525e-02,\n",
       "       -3.71574300e-02,  8.88664896e-02, -1.26592274e-02, -8.83486754e-02,\n",
       "       -1.01252184e-03, -2.58386330e-02,  4.28189865e-04, -4.36217412e-03,\n",
       "       -3.91725517e-02, -3.61334160e-02, -2.86274929e-02, -1.75215519e-02,\n",
       "       -6.71119802e-03, -7.87395946e-03, -3.77211687e-02, -7.84802461e-02,\n",
       "       -1.38158609e-01,  9.70380841e-02, -3.53715936e-02, -1.77467775e-02,\n",
       "       -3.51481969e-02, -4.61860519e-02, -7.75147708e-02, -7.37483499e-03,\n",
       "       -4.83457880e-02, -6.17657262e-02,  3.12788500e-02, -3.96536376e-02,\n",
       "       -7.51736357e-02, -6.87208846e-02, -1.56653667e-02,  6.11409678e-02,\n",
       "        5.37939728e-02, -3.81811974e-02,  3.86146013e-02, -4.09062096e-02,\n",
       "       -6.33116212e-02,  1.37965058e-01, -3.11393542e-02, -4.42966245e-02,\n",
       "        4.98978990e-02, -3.70210150e-02,  6.17054825e-03,  1.32376012e-02,\n",
       "        3.49257176e-02, -5.71011886e-02, -6.13826248e-02, -8.53839398e-02,\n",
       "       -4.75618180e-02, -2.31746790e-02, -6.47666902e-02, -6.41761988e-02,\n",
       "       -5.69181818e-02, -7.71215959e-02, -9.13826138e-03,  6.65283362e-02,\n",
       "       -6.26044705e-02,  5.25709689e-02, -1.69850329e-02,  1.20815500e-02,\n",
       "       -3.62142758e-02, -1.00320515e-01, -3.08852970e-02, -2.37741916e-02,\n",
       "        4.70211165e-02, -2.23780330e-02, -5.72583978e-02, -1.69459198e-02,\n",
       "        1.29140132e-02,  2.43460306e-02,  1.15218694e-02, -3.35605165e-03,\n",
       "        7.58004231e-02,  2.61076925e-03,  6.88756783e-02, -6.57862642e-02,\n",
       "       -4.88824991e-02,  1.31750407e-01, -1.79238312e-02, -1.61495603e-02,\n",
       "        5.19019753e-02,  2.63355525e-02,  1.94647280e-02, -6.54247840e-02,\n",
       "        1.04618682e-01,  5.79393802e-02,  4.86989837e-03, -4.21764443e-02,\n",
       "       -3.39636046e-02, -5.20104933e-03, -1.59940070e-02, -3.53264980e-02,\n",
       "       -4.70966789e-02, -4.12172320e-02, -1.35074350e-02,  7.21881102e-02,\n",
       "        3.12494335e-02,  4.77943309e-02, -1.22794891e-02, -3.58263696e-02,\n",
       "       -1.84023123e-02,  1.04346539e-02, -5.19000504e-02, -1.11799525e-01,\n",
       "        1.41622016e-02,  1.18081776e-01, -4.50980925e-02, -4.87479626e-02,\n",
       "        1.41161770e-02, -2.05553306e-02, -4.36841116e-02, -3.95187051e-02,\n",
       "       -1.64712148e-02, -4.26062262e-02, -4.12032457e-02, -6.45203097e-02,\n",
       "        2.00658791e-02,  8.72231841e-02, -2.93274654e-02, -2.20385709e-02,\n",
       "        2.25718347e-02,  1.17047952e-02,  2.43643783e-02])"
      ]
     },
     "execution_count": 25,
     "metadata": {},
     "output_type": "execute_result"
    }
   ],
   "source": [
    "I_perf.sim"
   ]
  },
  {
   "cell_type": "markdown",
   "metadata": {},
   "source": [
    "To make better sense of these values, we can use Seaborn to visualize them in a Kernel Density Estimate (kde) plot (see Chapter 6 of *Theater as Data* for more on KDEs). We can also overlay the actual *I* as a dotted line on top of this plot to get a better sense of what the *pseudo p-*value indicates (i.e., how \"rare\" the obseved value is in relation to the simulated values). "
   ]
  },
  {
   "cell_type": "code",
   "execution_count": 26,
   "metadata": {},
   "outputs": [
    {
     "name": "stderr",
     "output_type": "stream",
     "text": [
      "/Library/Frameworks/Python.framework/Versions/3.11/lib/python3.11/site-packages/seaborn/_oldcore.py:1119: FutureWarning: use_inf_as_na option is deprecated and will be removed in a future version. Convert inf values to NaN before operating instead.\n",
      "  with pd.option_context('mode.use_inf_as_na', True):\n"
     ]
    },
    {
     "data": {
      "text/plain": [
       "(0.0, 11.0)"
      ]
     },
     "execution_count": 26,
     "metadata": {},
     "output_type": "execute_result"
    },
    {
     "data": {
      "image/png": "[encoded data removed]",
      "text/plain": [
       "<Figure size 800x500 with 1 Axes>"
      ]
     },
     "metadata": {},
     "output_type": "display_data"
    }
   ],
   "source": [
    "ax, fig = plt.subplots(1, figsize=(8, 5))\n",
    "sns.kdeplot(I_perf.sim, fill=True)\n",
    "plt.vlines(I_perf.I, 0, 11, 'black',\"--\")\n",
    "plt.ylim([0,11])"
   ]
  }
 ],
 "metadata": {
  "kernelspec": {
   "display_name": "Python 3",
   "language": "python",
   "name": "python3"
  },
  "language_info": {
   "codemirror_mode": {
    "name": "ipython",
    "version": 3
   },
   "file_extension": ".py",
   "mimetype": "text/x-python",
   "name": "python",
   "nbconvert_exporter": "python",
   "pygments_lexer": "ipython3",
   "version": "3.11.5"
  }
 },
 "nbformat": 4,
 "nbformat_minor": 2
}
