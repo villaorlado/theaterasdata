{
 "cells": [
  {
   "cell_type": "markdown",
   "metadata": {},
   "source": [
    "# Word pattern analysis of _The Flying Inkpot_ theater reviews"
   ]
  },
  {
   "cell_type": "markdown",
   "metadata": {},
   "source": [
    "By Miguel Escobar Varela.\n",
    "\n",
    "This is the companion code to Chapter 4 of my book _Theater as data: Computational Journeys into theater research_ (University of Michigan Press, 2021).\n",
    "\n",
    "The book is openly accessible at https://doi.org/10.3998/mpub.11667458."
   ]
  },
  {
   "cell_type": "markdown",
   "metadata": {},
   "source": [
    "### *About Juypter and Python*"
   ]
  },
  {
   "cell_type": "markdown",
   "metadata": {},
   "source": [
    "The following is written as a step-by-step tutorial for users who want to reproduce the results presented in my book.\n",
    "\n",
    "This is an interactive Jupyter Notebook. For users not familiar with Python and Jupyter I recommend \n",
    "Allen Downey's excellent introductory materials at https://allendowney.github.io/ElementsOfDataScience/."
   ]
  },
  {
   "cell_type": "markdown",
   "metadata": {},
   "source": [
    "### 1 Importing the relevant libraries"
   ]
  },
  {
   "cell_type": "markdown",
   "metadata": {},
   "source": [
    "First, we import [Pandas](https://pandas.pydata.org/) to read the data into dataframes and [Matplotlib](https://matplotlib.org/) for the visualizations."
   ]
  },
  {
   "cell_type": "code",
   "execution_count": 1,
   "metadata": {},
   "outputs": [],
   "source": [
    "import pandas as pd\n",
    "import matplotlib.pyplot as plt"
   ]
  },
  {
   "cell_type": "markdown",
   "metadata": {},
   "source": [
    "### 2 Importing the data"
   ]
  },
  {
   "cell_type": "markdown",
   "metadata": {},
   "source": [
    "We will use the **4.1_trendOverTime.csv** file included under the book's data at Fulcrum."
   ]
  },
  {
   "cell_type": "markdown",
   "metadata": {},
   "source": [
    "To generate this data, I downloaded all the Flying Inkpot theater reviews from [their web archive](https://inkpotreviews.com/archive.html) in January 2019. The reviews for each year were grouped into separate text files, which omitted the names of the reviewers and titles of the reviews. These files were uploaded to [Voyant](http://voyant-tools.org), where I used built-in functions to calculate the trends over time and the concordances. I used the default stopword list from Voyant. I then downloaded the trends and concordances as a CSV file."
   ]
  },
  {
   "cell_type": "markdown",
   "metadata": {},
   "source": [
    "With the following code, we will read the CSV file into a data frame called **df**. The syntax assumes that the CSV is under a directory called **data/ch4**."
   ]
  },
  {
   "cell_type": "code",
   "execution_count": 4,
   "metadata": {},
   "outputs": [],
   "source": [
    "df = pd.read_csv(\"../../data/ch4/4_1_trendOverTime.csv\")"
   ]
  },
  {
   "cell_type": "markdown",
   "metadata": {},
   "source": [
    "### 3 Exploratory analysis"
   ]
  },
  {
   "cell_type": "markdown",
   "metadata": {},
   "source": [
    "For our initial exploration of the data, we will use two commands: **head()** inspects the first 5 rows of the dataframe, and **describe()** offers summary statistics."
   ]
  },
  {
   "cell_type": "code",
   "execution_count": 5,
   "metadata": {
    "scrolled": false
   },
   "outputs": [
    {
     "data": {
      "text/html": [
       "<div>\n",
       "<style scoped>\n",
       "    .dataframe tbody tr th:only-of-type {\n",
       "        vertical-align: middle;\n",
       "    }\n",
       "\n",
       "    .dataframe tbody tr th {\n",
       "        vertical-align: top;\n",
       "    }\n",
       "\n",
       "    .dataframe thead th {\n",
       "        text-align: right;\n",
       "    }\n",
       "</style>\n",
       "<table border=\"1\" class=\"dataframe\">\n",
       "  <thead>\n",
       "    <tr style=\"text-align: right;\">\n",
       "      <th></th>\n",
       "      <th>Term</th>\n",
       "      <th>Count</th>\n",
       "      <th>1998</th>\n",
       "      <th>1999</th>\n",
       "      <th>2000</th>\n",
       "      <th>2001</th>\n",
       "      <th>2002</th>\n",
       "      <th>2003</th>\n",
       "      <th>2004</th>\n",
       "      <th>2005</th>\n",
       "      <th>2006</th>\n",
       "      <th>2007</th>\n",
       "      <th>2008</th>\n",
       "      <th>2009</th>\n",
       "      <th>2010</th>\n",
       "      <th>2011</th>\n",
       "      <th>2012</th>\n",
       "      <th>2013</th>\n",
       "      <th>2014</th>\n",
       "      <th>2015</th>\n",
       "    </tr>\n",
       "  </thead>\n",
       "  <tbody>\n",
       "    <tr>\n",
       "      <th>0</th>\n",
       "      <td>play</td>\n",
       "      <td>4446</td>\n",
       "      <td>0.002044</td>\n",
       "      <td>0.006324</td>\n",
       "      <td>0.004652</td>\n",
       "      <td>0.004844</td>\n",
       "      <td>0.003257</td>\n",
       "      <td>0.005105</td>\n",
       "      <td>0.004915</td>\n",
       "      <td>0.003788</td>\n",
       "      <td>0.004035</td>\n",
       "      <td>0.004465</td>\n",
       "      <td>0.004160</td>\n",
       "      <td>0.003435</td>\n",
       "      <td>0.004208</td>\n",
       "      <td>0.004323</td>\n",
       "      <td>0.003446</td>\n",
       "      <td>0.003144</td>\n",
       "      <td>0.003634</td>\n",
       "      <td>0.004152</td>\n",
       "    </tr>\n",
       "    <tr>\n",
       "      <th>1</th>\n",
       "      <td>audience</td>\n",
       "      <td>2463</td>\n",
       "      <td>0.004381</td>\n",
       "      <td>0.003676</td>\n",
       "      <td>0.003612</td>\n",
       "      <td>0.002393</td>\n",
       "      <td>0.001705</td>\n",
       "      <td>0.002072</td>\n",
       "      <td>0.002802</td>\n",
       "      <td>0.002257</td>\n",
       "      <td>0.001868</td>\n",
       "      <td>0.002340</td>\n",
       "      <td>0.001756</td>\n",
       "      <td>0.001684</td>\n",
       "      <td>0.002181</td>\n",
       "      <td>0.002463</td>\n",
       "      <td>0.002167</td>\n",
       "      <td>0.001818</td>\n",
       "      <td>0.002199</td>\n",
       "      <td>0.002151</td>\n",
       "    </tr>\n",
       "    <tr>\n",
       "      <th>2</th>\n",
       "      <td>like</td>\n",
       "      <td>2285</td>\n",
       "      <td>0.001168</td>\n",
       "      <td>0.001654</td>\n",
       "      <td>0.002326</td>\n",
       "      <td>0.002206</td>\n",
       "      <td>0.002765</td>\n",
       "      <td>0.002738</td>\n",
       "      <td>0.002161</td>\n",
       "      <td>0.002611</td>\n",
       "      <td>0.001943</td>\n",
       "      <td>0.001852</td>\n",
       "      <td>0.002170</td>\n",
       "      <td>0.002009</td>\n",
       "      <td>0.001734</td>\n",
       "      <td>0.002115</td>\n",
       "      <td>0.002098</td>\n",
       "      <td>0.001861</td>\n",
       "      <td>0.001901</td>\n",
       "      <td>0.002551</td>\n",
       "    </tr>\n",
       "    <tr>\n",
       "      <th>3</th>\n",
       "      <td>stage</td>\n",
       "      <td>2178</td>\n",
       "      <td>0.001752</td>\n",
       "      <td>0.002279</td>\n",
       "      <td>0.001806</td>\n",
       "      <td>0.002766</td>\n",
       "      <td>0.002689</td>\n",
       "      <td>0.002392</td>\n",
       "      <td>0.002113</td>\n",
       "      <td>0.001727</td>\n",
       "      <td>0.001450</td>\n",
       "      <td>0.002096</td>\n",
       "      <td>0.001628</td>\n",
       "      <td>0.001738</td>\n",
       "      <td>0.001875</td>\n",
       "      <td>0.002168</td>\n",
       "      <td>0.002269</td>\n",
       "      <td>0.002010</td>\n",
       "      <td>0.002106</td>\n",
       "      <td>0.002301</td>\n",
       "    </tr>\n",
       "    <tr>\n",
       "      <th>4</th>\n",
       "      <td>theatre</td>\n",
       "      <td>2037</td>\n",
       "      <td>0.002629</td>\n",
       "      <td>0.001765</td>\n",
       "      <td>0.001815</td>\n",
       "      <td>0.001482</td>\n",
       "      <td>0.001659</td>\n",
       "      <td>0.001726</td>\n",
       "      <td>0.001828</td>\n",
       "      <td>0.001158</td>\n",
       "      <td>0.002556</td>\n",
       "      <td>0.002340</td>\n",
       "      <td>0.002192</td>\n",
       "      <td>0.002118</td>\n",
       "      <td>0.002091</td>\n",
       "      <td>0.001927</td>\n",
       "      <td>0.001962</td>\n",
       "      <td>0.001476</td>\n",
       "      <td>0.001808</td>\n",
       "      <td>0.002401</td>\n",
       "    </tr>\n",
       "  </tbody>\n",
       "</table>\n",
       "</div>"
      ],
      "text/plain": [
       "       Term  Count      1998      1999      2000      2001      2002  \\\n",
       "0      play   4446  0.002044  0.006324  0.004652  0.004844  0.003257   \n",
       "1  audience   2463  0.004381  0.003676  0.003612  0.002393  0.001705   \n",
       "2      like   2285  0.001168  0.001654  0.002326  0.002206  0.002765   \n",
       "3     stage   2178  0.001752  0.002279  0.001806  0.002766  0.002689   \n",
       "4   theatre   2037  0.002629  0.001765  0.001815  0.001482  0.001659   \n",
       "\n",
       "       2003      2004      2005      2006      2007      2008      2009  \\\n",
       "0  0.005105  0.004915  0.003788  0.004035  0.004465  0.004160  0.003435   \n",
       "1  0.002072  0.002802  0.002257  0.001868  0.002340  0.001756  0.001684   \n",
       "2  0.002738  0.002161  0.002611  0.001943  0.001852  0.002170  0.002009   \n",
       "3  0.002392  0.002113  0.001727  0.001450  0.002096  0.001628  0.001738   \n",
       "4  0.001726  0.001828  0.001158  0.002556  0.002340  0.002192  0.002118   \n",
       "\n",
       "       2010      2011      2012      2013      2014      2015  \n",
       "0  0.004208  0.004323  0.003446  0.003144  0.003634  0.004152  \n",
       "1  0.002181  0.002463  0.002167  0.001818  0.002199  0.002151  \n",
       "2  0.001734  0.002115  0.002098  0.001861  0.001901  0.002551  \n",
       "3  0.001875  0.002168  0.002269  0.002010  0.002106  0.002301  \n",
       "4  0.002091  0.001927  0.001962  0.001476  0.001808  0.002401  "
      ]
     },
     "execution_count": 5,
     "metadata": {},
     "output_type": "execute_result"
    }
   ],
   "source": [
    "df.head()"
   ]
  },
  {
   "cell_type": "code",
   "execution_count": 6,
   "metadata": {
    "scrolled": true
   },
   "outputs": [
    {
     "data": {
      "text/html": [
       "<div>\n",
       "<style scoped>\n",
       "    .dataframe tbody tr th:only-of-type {\n",
       "        vertical-align: middle;\n",
       "    }\n",
       "\n",
       "    .dataframe tbody tr th {\n",
       "        vertical-align: top;\n",
       "    }\n",
       "\n",
       "    .dataframe thead th {\n",
       "        text-align: right;\n",
       "    }\n",
       "</style>\n",
       "<table border=\"1\" class=\"dataframe\">\n",
       "  <thead>\n",
       "    <tr style=\"text-align: right;\">\n",
       "      <th></th>\n",
       "      <th>Count</th>\n",
       "      <th>1998</th>\n",
       "      <th>1999</th>\n",
       "      <th>2000</th>\n",
       "      <th>2001</th>\n",
       "      <th>2002</th>\n",
       "      <th>2003</th>\n",
       "      <th>2004</th>\n",
       "      <th>2005</th>\n",
       "      <th>2006</th>\n",
       "      <th>2007</th>\n",
       "      <th>2008</th>\n",
       "      <th>2009</th>\n",
       "      <th>2010</th>\n",
       "      <th>2011</th>\n",
       "      <th>2012</th>\n",
       "      <th>2013</th>\n",
       "      <th>2014</th>\n",
       "      <th>2015</th>\n",
       "    </tr>\n",
       "  </thead>\n",
       "  <tbody>\n",
       "    <tr>\n",
       "      <th>count</th>\n",
       "      <td>300.000000</td>\n",
       "      <td>300.000000</td>\n",
       "      <td>300.000000</td>\n",
       "      <td>300.000000</td>\n",
       "      <td>300.000000</td>\n",
       "      <td>300.000000</td>\n",
       "      <td>300.000000</td>\n",
       "      <td>300.000000</td>\n",
       "      <td>300.000000</td>\n",
       "      <td>300.000000</td>\n",
       "      <td>300.000000</td>\n",
       "      <td>300.000000</td>\n",
       "      <td>300.000000</td>\n",
       "      <td>300.000000</td>\n",
       "      <td>300.000000</td>\n",
       "      <td>300.000000</td>\n",
       "      <td>300.000000</td>\n",
       "      <td>300.000000</td>\n",
       "      <td>300.000000</td>\n",
       "    </tr>\n",
       "    <tr>\n",
       "      <th>mean</th>\n",
       "      <td>492.233333</td>\n",
       "      <td>0.000436</td>\n",
       "      <td>0.000468</td>\n",
       "      <td>0.000465</td>\n",
       "      <td>0.000460</td>\n",
       "      <td>0.000443</td>\n",
       "      <td>0.000472</td>\n",
       "      <td>0.000456</td>\n",
       "      <td>0.000446</td>\n",
       "      <td>0.000445</td>\n",
       "      <td>0.000464</td>\n",
       "      <td>0.000476</td>\n",
       "      <td>0.000460</td>\n",
       "      <td>0.000460</td>\n",
       "      <td>0.000472</td>\n",
       "      <td>0.000474</td>\n",
       "      <td>0.000467</td>\n",
       "      <td>0.000465</td>\n",
       "      <td>0.000469</td>\n",
       "    </tr>\n",
       "    <tr>\n",
       "      <th>std</th>\n",
       "      <td>414.572099</td>\n",
       "      <td>0.000579</td>\n",
       "      <td>0.000523</td>\n",
       "      <td>0.000443</td>\n",
       "      <td>0.000430</td>\n",
       "      <td>0.000377</td>\n",
       "      <td>0.000455</td>\n",
       "      <td>0.000455</td>\n",
       "      <td>0.000402</td>\n",
       "      <td>0.000391</td>\n",
       "      <td>0.000429</td>\n",
       "      <td>0.000410</td>\n",
       "      <td>0.000374</td>\n",
       "      <td>0.000403</td>\n",
       "      <td>0.000424</td>\n",
       "      <td>0.000413</td>\n",
       "      <td>0.000405</td>\n",
       "      <td>0.000402</td>\n",
       "      <td>0.000439</td>\n",
       "    </tr>\n",
       "    <tr>\n",
       "      <th>min</th>\n",
       "      <td>236.000000</td>\n",
       "      <td>0.000000</td>\n",
       "      <td>0.000000</td>\n",
       "      <td>0.000044</td>\n",
       "      <td>0.000012</td>\n",
       "      <td>0.000046</td>\n",
       "      <td>0.000025</td>\n",
       "      <td>0.000024</td>\n",
       "      <td>0.000059</td>\n",
       "      <td>0.000060</td>\n",
       "      <td>0.000057</td>\n",
       "      <td>0.000096</td>\n",
       "      <td>0.000095</td>\n",
       "      <td>0.000115</td>\n",
       "      <td>0.000094</td>\n",
       "      <td>0.000085</td>\n",
       "      <td>0.000043</td>\n",
       "      <td>0.000037</td>\n",
       "      <td>0.000000</td>\n",
       "    </tr>\n",
       "    <tr>\n",
       "      <th>25%</th>\n",
       "      <td>283.750000</td>\n",
       "      <td>0.000000</td>\n",
       "      <td>0.000221</td>\n",
       "      <td>0.000256</td>\n",
       "      <td>0.000257</td>\n",
       "      <td>0.000246</td>\n",
       "      <td>0.000271</td>\n",
       "      <td>0.000214</td>\n",
       "      <td>0.000236</td>\n",
       "      <td>0.000239</td>\n",
       "      <td>0.000244</td>\n",
       "      <td>0.000255</td>\n",
       "      <td>0.000244</td>\n",
       "      <td>0.000255</td>\n",
       "      <td>0.000254</td>\n",
       "      <td>0.000239</td>\n",
       "      <td>0.000257</td>\n",
       "      <td>0.000242</td>\n",
       "      <td>0.000200</td>\n",
       "    </tr>\n",
       "    <tr>\n",
       "      <th>50%</th>\n",
       "      <td>362.000000</td>\n",
       "      <td>0.000292</td>\n",
       "      <td>0.000331</td>\n",
       "      <td>0.000352</td>\n",
       "      <td>0.000350</td>\n",
       "      <td>0.000338</td>\n",
       "      <td>0.000345</td>\n",
       "      <td>0.000356</td>\n",
       "      <td>0.000334</td>\n",
       "      <td>0.000344</td>\n",
       "      <td>0.000359</td>\n",
       "      <td>0.000362</td>\n",
       "      <td>0.000360</td>\n",
       "      <td>0.000344</td>\n",
       "      <td>0.000348</td>\n",
       "      <td>0.000341</td>\n",
       "      <td>0.000342</td>\n",
       "      <td>0.000373</td>\n",
       "      <td>0.000350</td>\n",
       "    </tr>\n",
       "    <tr>\n",
       "      <th>75%</th>\n",
       "      <td>510.000000</td>\n",
       "      <td>0.000584</td>\n",
       "      <td>0.000515</td>\n",
       "      <td>0.000502</td>\n",
       "      <td>0.000502</td>\n",
       "      <td>0.000492</td>\n",
       "      <td>0.000524</td>\n",
       "      <td>0.000522</td>\n",
       "      <td>0.000510</td>\n",
       "      <td>0.000463</td>\n",
       "      <td>0.000474</td>\n",
       "      <td>0.000521</td>\n",
       "      <td>0.000502</td>\n",
       "      <td>0.000497</td>\n",
       "      <td>0.000509</td>\n",
       "      <td>0.000529</td>\n",
       "      <td>0.000519</td>\n",
       "      <td>0.000503</td>\n",
       "      <td>0.000550</td>\n",
       "    </tr>\n",
       "    <tr>\n",
       "      <th>max</th>\n",
       "      <td>4446.000000</td>\n",
       "      <td>0.004381</td>\n",
       "      <td>0.006324</td>\n",
       "      <td>0.004652</td>\n",
       "      <td>0.004844</td>\n",
       "      <td>0.003257</td>\n",
       "      <td>0.005105</td>\n",
       "      <td>0.004915</td>\n",
       "      <td>0.003788</td>\n",
       "      <td>0.004035</td>\n",
       "      <td>0.004465</td>\n",
       "      <td>0.004160</td>\n",
       "      <td>0.003435</td>\n",
       "      <td>0.004208</td>\n",
       "      <td>0.004323</td>\n",
       "      <td>0.003446</td>\n",
       "      <td>0.003144</td>\n",
       "      <td>0.003634</td>\n",
       "      <td>0.004152</td>\n",
       "    </tr>\n",
       "  </tbody>\n",
       "</table>\n",
       "</div>"
      ],
      "text/plain": [
       "             Count        1998        1999        2000        2001  \\\n",
       "count   300.000000  300.000000  300.000000  300.000000  300.000000   \n",
       "mean    492.233333    0.000436    0.000468    0.000465    0.000460   \n",
       "std     414.572099    0.000579    0.000523    0.000443    0.000430   \n",
       "min     236.000000    0.000000    0.000000    0.000044    0.000012   \n",
       "25%     283.750000    0.000000    0.000221    0.000256    0.000257   \n",
       "50%     362.000000    0.000292    0.000331    0.000352    0.000350   \n",
       "75%     510.000000    0.000584    0.000515    0.000502    0.000502   \n",
       "max    4446.000000    0.004381    0.006324    0.004652    0.004844   \n",
       "\n",
       "             2002        2003        2004        2005        2006        2007  \\\n",
       "count  300.000000  300.000000  300.000000  300.000000  300.000000  300.000000   \n",
       "mean     0.000443    0.000472    0.000456    0.000446    0.000445    0.000464   \n",
       "std      0.000377    0.000455    0.000455    0.000402    0.000391    0.000429   \n",
       "min      0.000046    0.000025    0.000024    0.000059    0.000060    0.000057   \n",
       "25%      0.000246    0.000271    0.000214    0.000236    0.000239    0.000244   \n",
       "50%      0.000338    0.000345    0.000356    0.000334    0.000344    0.000359   \n",
       "75%      0.000492    0.000524    0.000522    0.000510    0.000463    0.000474   \n",
       "max      0.003257    0.005105    0.004915    0.003788    0.004035    0.004465   \n",
       "\n",
       "             2008        2009        2010        2011        2012        2013  \\\n",
       "count  300.000000  300.000000  300.000000  300.000000  300.000000  300.000000   \n",
       "mean     0.000476    0.000460    0.000460    0.000472    0.000474    0.000467   \n",
       "std      0.000410    0.000374    0.000403    0.000424    0.000413    0.000405   \n",
       "min      0.000096    0.000095    0.000115    0.000094    0.000085    0.000043   \n",
       "25%      0.000255    0.000244    0.000255    0.000254    0.000239    0.000257   \n",
       "50%      0.000362    0.000360    0.000344    0.000348    0.000341    0.000342   \n",
       "75%      0.000521    0.000502    0.000497    0.000509    0.000529    0.000519   \n",
       "max      0.004160    0.003435    0.004208    0.004323    0.003446    0.003144   \n",
       "\n",
       "             2014        2015  \n",
       "count  300.000000  300.000000  \n",
       "mean     0.000465    0.000469  \n",
       "std      0.000402    0.000439  \n",
       "min      0.000037    0.000000  \n",
       "25%      0.000242    0.000200  \n",
       "50%      0.000373    0.000350  \n",
       "75%      0.000503    0.000550  \n",
       "max      0.003634    0.004152  "
      ]
     },
     "execution_count": 6,
     "metadata": {},
     "output_type": "execute_result"
    }
   ],
   "source": [
    "df.describe()"
   ]
  },
  {
   "cell_type": "markdown",
   "metadata": {},
   "source": [
    "We can then set the \"Term\" (i.e., the words) as the index of our dataframe."
   ]
  },
  {
   "cell_type": "code",
   "execution_count": 7,
   "metadata": {},
   "outputs": [],
   "source": [
    "df = df.set_index(\"Term\")"
   ]
  },
  {
   "cell_type": "code",
   "execution_count": 8,
   "metadata": {},
   "outputs": [
    {
     "data": {
      "text/html": [
       "<div>\n",
       "<style scoped>\n",
       "    .dataframe tbody tr th:only-of-type {\n",
       "        vertical-align: middle;\n",
       "    }\n",
       "\n",
       "    .dataframe tbody tr th {\n",
       "        vertical-align: top;\n",
       "    }\n",
       "\n",
       "    .dataframe thead th {\n",
       "        text-align: right;\n",
       "    }\n",
       "</style>\n",
       "<table border=\"1\" class=\"dataframe\">\n",
       "  <thead>\n",
       "    <tr style=\"text-align: right;\">\n",
       "      <th></th>\n",
       "      <th>Count</th>\n",
       "      <th>1998</th>\n",
       "      <th>1999</th>\n",
       "      <th>2000</th>\n",
       "      <th>2001</th>\n",
       "      <th>2002</th>\n",
       "      <th>2003</th>\n",
       "      <th>2004</th>\n",
       "      <th>2005</th>\n",
       "      <th>2006</th>\n",
       "      <th>2007</th>\n",
       "      <th>2008</th>\n",
       "      <th>2009</th>\n",
       "      <th>2010</th>\n",
       "      <th>2011</th>\n",
       "      <th>2012</th>\n",
       "      <th>2013</th>\n",
       "      <th>2014</th>\n",
       "      <th>2015</th>\n",
       "    </tr>\n",
       "    <tr>\n",
       "      <th>Term</th>\n",
       "      <th></th>\n",
       "      <th></th>\n",
       "      <th></th>\n",
       "      <th></th>\n",
       "      <th></th>\n",
       "      <th></th>\n",
       "      <th></th>\n",
       "      <th></th>\n",
       "      <th></th>\n",
       "      <th></th>\n",
       "      <th></th>\n",
       "      <th></th>\n",
       "      <th></th>\n",
       "      <th></th>\n",
       "      <th></th>\n",
       "      <th></th>\n",
       "      <th></th>\n",
       "      <th></th>\n",
       "      <th></th>\n",
       "    </tr>\n",
       "  </thead>\n",
       "  <tbody>\n",
       "    <tr>\n",
       "      <th>play</th>\n",
       "      <td>4446</td>\n",
       "      <td>0.002044</td>\n",
       "      <td>0.006324</td>\n",
       "      <td>0.004652</td>\n",
       "      <td>0.004844</td>\n",
       "      <td>0.003257</td>\n",
       "      <td>0.005105</td>\n",
       "      <td>0.004915</td>\n",
       "      <td>0.003788</td>\n",
       "      <td>0.004035</td>\n",
       "      <td>0.004465</td>\n",
       "      <td>0.004160</td>\n",
       "      <td>0.003435</td>\n",
       "      <td>0.004208</td>\n",
       "      <td>0.004323</td>\n",
       "      <td>0.003446</td>\n",
       "      <td>0.003144</td>\n",
       "      <td>0.003634</td>\n",
       "      <td>0.004152</td>\n",
       "    </tr>\n",
       "    <tr>\n",
       "      <th>audience</th>\n",
       "      <td>2463</td>\n",
       "      <td>0.004381</td>\n",
       "      <td>0.003676</td>\n",
       "      <td>0.003612</td>\n",
       "      <td>0.002393</td>\n",
       "      <td>0.001705</td>\n",
       "      <td>0.002072</td>\n",
       "      <td>0.002802</td>\n",
       "      <td>0.002257</td>\n",
       "      <td>0.001868</td>\n",
       "      <td>0.002340</td>\n",
       "      <td>0.001756</td>\n",
       "      <td>0.001684</td>\n",
       "      <td>0.002181</td>\n",
       "      <td>0.002463</td>\n",
       "      <td>0.002167</td>\n",
       "      <td>0.001818</td>\n",
       "      <td>0.002199</td>\n",
       "      <td>0.002151</td>\n",
       "    </tr>\n",
       "    <tr>\n",
       "      <th>like</th>\n",
       "      <td>2285</td>\n",
       "      <td>0.001168</td>\n",
       "      <td>0.001654</td>\n",
       "      <td>0.002326</td>\n",
       "      <td>0.002206</td>\n",
       "      <td>0.002765</td>\n",
       "      <td>0.002738</td>\n",
       "      <td>0.002161</td>\n",
       "      <td>0.002611</td>\n",
       "      <td>0.001943</td>\n",
       "      <td>0.001852</td>\n",
       "      <td>0.002170</td>\n",
       "      <td>0.002009</td>\n",
       "      <td>0.001734</td>\n",
       "      <td>0.002115</td>\n",
       "      <td>0.002098</td>\n",
       "      <td>0.001861</td>\n",
       "      <td>0.001901</td>\n",
       "      <td>0.002551</td>\n",
       "    </tr>\n",
       "    <tr>\n",
       "      <th>stage</th>\n",
       "      <td>2178</td>\n",
       "      <td>0.001752</td>\n",
       "      <td>0.002279</td>\n",
       "      <td>0.001806</td>\n",
       "      <td>0.002766</td>\n",
       "      <td>0.002689</td>\n",
       "      <td>0.002392</td>\n",
       "      <td>0.002113</td>\n",
       "      <td>0.001727</td>\n",
       "      <td>0.001450</td>\n",
       "      <td>0.002096</td>\n",
       "      <td>0.001628</td>\n",
       "      <td>0.001738</td>\n",
       "      <td>0.001875</td>\n",
       "      <td>0.002168</td>\n",
       "      <td>0.002269</td>\n",
       "      <td>0.002010</td>\n",
       "      <td>0.002106</td>\n",
       "      <td>0.002301</td>\n",
       "    </tr>\n",
       "    <tr>\n",
       "      <th>theatre</th>\n",
       "      <td>2037</td>\n",
       "      <td>0.002629</td>\n",
       "      <td>0.001765</td>\n",
       "      <td>0.001815</td>\n",
       "      <td>0.001482</td>\n",
       "      <td>0.001659</td>\n",
       "      <td>0.001726</td>\n",
       "      <td>0.001828</td>\n",
       "      <td>0.001158</td>\n",
       "      <td>0.002556</td>\n",
       "      <td>0.002340</td>\n",
       "      <td>0.002192</td>\n",
       "      <td>0.002118</td>\n",
       "      <td>0.002091</td>\n",
       "      <td>0.001927</td>\n",
       "      <td>0.001962</td>\n",
       "      <td>0.001476</td>\n",
       "      <td>0.001808</td>\n",
       "      <td>0.002401</td>\n",
       "    </tr>\n",
       "  </tbody>\n",
       "</table>\n",
       "</div>"
      ],
      "text/plain": [
       "          Count      1998      1999      2000      2001      2002      2003  \\\n",
       "Term                                                                          \n",
       "play       4446  0.002044  0.006324  0.004652  0.004844  0.003257  0.005105   \n",
       "audience   2463  0.004381  0.003676  0.003612  0.002393  0.001705  0.002072   \n",
       "like       2285  0.001168  0.001654  0.002326  0.002206  0.002765  0.002738   \n",
       "stage      2178  0.001752  0.002279  0.001806  0.002766  0.002689  0.002392   \n",
       "theatre    2037  0.002629  0.001765  0.001815  0.001482  0.001659  0.001726   \n",
       "\n",
       "              2004      2005      2006      2007      2008      2009  \\\n",
       "Term                                                                   \n",
       "play      0.004915  0.003788  0.004035  0.004465  0.004160  0.003435   \n",
       "audience  0.002802  0.002257  0.001868  0.002340  0.001756  0.001684   \n",
       "like      0.002161  0.002611  0.001943  0.001852  0.002170  0.002009   \n",
       "stage     0.002113  0.001727  0.001450  0.002096  0.001628  0.001738   \n",
       "theatre   0.001828  0.001158  0.002556  0.002340  0.002192  0.002118   \n",
       "\n",
       "              2010      2011      2012      2013      2014      2015  \n",
       "Term                                                                  \n",
       "play      0.004208  0.004323  0.003446  0.003144  0.003634  0.004152  \n",
       "audience  0.002181  0.002463  0.002167  0.001818  0.002199  0.002151  \n",
       "like      0.001734  0.002115  0.002098  0.001861  0.001901  0.002551  \n",
       "stage     0.001875  0.002168  0.002269  0.002010  0.002106  0.002301  \n",
       "theatre   0.002091  0.001927  0.001962  0.001476  0.001808  0.002401  "
      ]
     },
     "execution_count": 8,
     "metadata": {},
     "output_type": "execute_result"
    }
   ],
   "source": [
    "df.head()"
   ]
  },
  {
   "cell_type": "markdown",
   "metadata": {},
   "source": [
    "The variable **Count** corresponds to the overall number of mentions of each term. The numbers under each year's columns are the relative frequencies (i.e., the raw counts for a term divided by the total number of words in that given year)\n",
    "\n",
    "The following code gives us the raw count for \"play\" in 1998."
   ]
  },
  {
   "cell_type": "code",
   "execution_count": 9,
   "metadata": {
    "scrolled": true
   },
   "outputs": [
    {
     "data": {
      "text/plain": [
       "0.0020443925"
      ]
     },
     "execution_count": 9,
     "metadata": {},
     "output_type": "execute_result"
    }
   ],
   "source": [
    "df.loc[\"play\",\"1998\"]"
   ]
  },
  {
   "cell_type": "markdown",
   "metadata": {},
   "source": [
    "### 4 Mann Kendall analysis"
   ]
  },
  {
   "cell_type": "markdown",
   "metadata": {},
   "source": [
    "For the next part of the analysis the _pyMannKendall_ Python Package needs to be installed and loaded. It can be installed from [here](https://pypi.org/project/pymannkendall/).\n",
    "\n",
    "More information about this package is available here:\n",
    "\n",
    "Hussain et al., (2019). pyMannKendall: a python package for non parametric Mann Kendall family of trend tests. *Journal of Open Source Software*, 4(39), 1556, https://doi.org/10.21105/joss.01556"
   ]
  },
  {
   "cell_type": "code",
   "execution_count": 11,
   "metadata": {},
   "outputs": [],
   "source": [
    "import pymannkendall as mk"
   ]
  },
  {
   "cell_type": "markdown",
   "metadata": {},
   "source": [
    "To get a sense of what this package does, we can run the Mann Kendall test for the word \"play\" and load the results into a variable we will call **result**."
   ]
  },
  {
   "cell_type": "code",
   "execution_count": 13,
   "metadata": {},
   "outputs": [],
   "source": [
    "result = mk.original_test(df.loc[\"play\"])"
   ]
  },
  {
   "cell_type": "code",
   "execution_count": 14,
   "metadata": {},
   "outputs": [
    {
     "data": {
      "text/plain": [
       "Mann_Kendall_Test(trend='no trend', h=False, p=0.05886224110862792, z=-1.889220857061563, Tau=-0.3216374269005848, s=-55.0, var_s=817.0, slope=-9.30628384615385e-05, intercept=0.0049976270461538465)"
      ]
     },
     "execution_count": 14,
     "metadata": {},
     "output_type": "execute_result"
    }
   ],
   "source": [
    "result"
   ]
  },
  {
   "cell_type": "markdown",
   "metadata": {},
   "source": [
    "The **result** variable includes the following information:\n",
    "\n",
    "- **trend**: tells if there is a trend (increasing, decreasing or no trend)\n",
    "\n",
    "- **h**: True (if trend is present) or False (if the trend is absence)\n",
    "\n",
    "- **p**: p-value of the significance test\n",
    "\n",
    "- **z**: normalized test statistics\n",
    "\n",
    "- **Tau**: Kendall *Tau*\n",
    "\n",
    "- **s**: Mann-Kendal's score\n",
    "\n",
    "- **var_s**: Variance *S*\n",
    "\n",
    "- **slope**: Sen's slope"
   ]
  },
  {
   "cell_type": "markdown",
   "metadata": {},
   "source": [
    "In the above example, we can see that no trend was detected for \"play\"."
   ]
  },
  {
   "cell_type": "markdown",
   "metadata": {},
   "source": [
    "Now we want to do the same thing for all of the top 100 words. For this, we first assign the top 100 words to a new dataframe which we will call **top**."
   ]
  },
  {
   "cell_type": "code",
   "execution_count": 15,
   "metadata": {},
   "outputs": [],
   "source": [
    "top = df.sort_values(\"Count\",ascending=False).head(100)"
   ]
  },
  {
   "cell_type": "markdown",
   "metadata": {},
   "source": [
    "We have no use of the \"Count\" column for the rest of the analysis so we will drop it from our dataframe."
   ]
  },
  {
   "cell_type": "code",
   "execution_count": 16,
   "metadata": {},
   "outputs": [],
   "source": [
    "top = top.drop(['Count'], axis=1)"
   ]
  },
  {
   "cell_type": "markdown",
   "metadata": {},
   "source": [
    "Now we will repeat the Mann Kendall analysis for each of the top words and assign the results to a dictionary we will call **mk_dict**. Then we will cycle through each of the rows. For each row we will run the Mann Kendall test and assign the result to a variable called **r**. If **r.h** is _True_ (i.e., if there is a trend, as explained above), then the result will be added to **mk_dict**.  "
   ]
  },
  {
   "cell_type": "code",
   "execution_count": 17,
   "metadata": {},
   "outputs": [],
   "source": [
    "mk_dict = {}\n",
    "\n",
    "#cyclying through each of the rows\n",
    "for index in top.index:\n",
    "    \n",
    "    #For each row we will run the Mann Kendall test and assign the result to a variable called r.\n",
    "    r = mk.original_test(top.loc[index])\n",
    "    \n",
    "    #If r.h is True (i.e., if there is a trend, as explained above), then the result will be added to mk_dict\n",
    "    if (r.h):\n",
    "        mk_dict[index] = {\"trend\":r.trend,\"p\":r.p,\"z\":r.z,\"tau\":r.Tau,\"slope\":r.slope,\"s\":r.s}"
   ]
  },
  {
   "cell_type": "markdown",
   "metadata": {},
   "source": [
    "Then we are going to create a dataframe from **mk_dict** and name it **mk_df**."
   ]
  },
  {
   "cell_type": "code",
   "execution_count": 18,
   "metadata": {},
   "outputs": [],
   "source": [
    "mk_df = pd.DataFrame.from_dict(mk_dict, orient=\"index\")"
   ]
  },
  {
   "cell_type": "markdown",
   "metadata": {},
   "source": [
    "The Mann-Kendall _s_ provides a statistical estimation on whether a trend is monotonic (i.e., consistently increasing or decreasing over time). The sign indicates the direction of the trend, _s_ values of 103 and -103 are equally strong, but the former is increasing and the latter decreasing."
   ]
  },
  {
   "cell_type": "markdown",
   "metadata": {},
   "source": [
    "Then we can arrange the rows in **mk_df** by the *s* value. "
   ]
  },
  {
   "cell_type": "code",
   "execution_count": 19,
   "metadata": {
    "scrolled": false
   },
   "outputs": [
    {
     "data": {
      "text/html": [
       "<div>\n",
       "<style scoped>\n",
       "    .dataframe tbody tr th:only-of-type {\n",
       "        vertical-align: middle;\n",
       "    }\n",
       "\n",
       "    .dataframe tbody tr th {\n",
       "        vertical-align: top;\n",
       "    }\n",
       "\n",
       "    .dataframe thead th {\n",
       "        text-align: right;\n",
       "    }\n",
       "</style>\n",
       "<table border=\"1\" class=\"dataframe\">\n",
       "  <thead>\n",
       "    <tr style=\"text-align: right;\">\n",
       "      <th></th>\n",
       "      <th>trend</th>\n",
       "      <th>p</th>\n",
       "      <th>z</th>\n",
       "      <th>tau</th>\n",
       "      <th>slope</th>\n",
       "      <th>s</th>\n",
       "    </tr>\n",
       "  </thead>\n",
       "  <tbody>\n",
       "    <tr>\n",
       "      <th>woman</th>\n",
       "      <td>decreasing</td>\n",
       "      <td>0.001124</td>\n",
       "      <td>-3.257482</td>\n",
       "      <td>-0.568627</td>\n",
       "      <td>-0.000033</td>\n",
       "      <td>-87.0</td>\n",
       "    </tr>\n",
       "    <tr>\n",
       "      <th>script</th>\n",
       "      <td>decreasing</td>\n",
       "      <td>0.005064</td>\n",
       "      <td>-2.802950</td>\n",
       "      <td>-0.490196</td>\n",
       "      <td>-0.000039</td>\n",
       "      <td>-75.0</td>\n",
       "    </tr>\n",
       "    <tr>\n",
       "      <th>real</th>\n",
       "      <td>decreasing</td>\n",
       "      <td>0.008015</td>\n",
       "      <td>-2.651439</td>\n",
       "      <td>-0.464052</td>\n",
       "      <td>-0.000012</td>\n",
       "      <td>-71.0</td>\n",
       "    </tr>\n",
       "    <tr>\n",
       "      <th>night</th>\n",
       "      <td>decreasing</td>\n",
       "      <td>0.023047</td>\n",
       "      <td>-2.272662</td>\n",
       "      <td>-0.398693</td>\n",
       "      <td>-0.000026</td>\n",
       "      <td>-61.0</td>\n",
       "    </tr>\n",
       "    <tr>\n",
       "      <th>audience</th>\n",
       "      <td>decreasing</td>\n",
       "      <td>0.033909</td>\n",
       "      <td>-2.121151</td>\n",
       "      <td>-0.372549</td>\n",
       "      <td>-0.000063</td>\n",
       "      <td>-57.0</td>\n",
       "    </tr>\n",
       "    <tr>\n",
       "      <th>years</th>\n",
       "      <td>increasing</td>\n",
       "      <td>0.048880</td>\n",
       "      <td>1.969640</td>\n",
       "      <td>0.346405</td>\n",
       "      <td>0.000016</td>\n",
       "      <td>53.0</td>\n",
       "    </tr>\n",
       "    <tr>\n",
       "      <th>place</th>\n",
       "      <td>increasing</td>\n",
       "      <td>0.048880</td>\n",
       "      <td>1.969640</td>\n",
       "      <td>0.346405</td>\n",
       "      <td>0.000010</td>\n",
       "      <td>53.0</td>\n",
       "    </tr>\n",
       "    <tr>\n",
       "      <th>young</th>\n",
       "      <td>increasing</td>\n",
       "      <td>0.033909</td>\n",
       "      <td>2.121151</td>\n",
       "      <td>0.372549</td>\n",
       "      <td>0.000019</td>\n",
       "      <td>57.0</td>\n",
       "    </tr>\n",
       "    <tr>\n",
       "      <th>production</th>\n",
       "      <td>increasing</td>\n",
       "      <td>0.028027</td>\n",
       "      <td>2.196907</td>\n",
       "      <td>0.385621</td>\n",
       "      <td>0.000025</td>\n",
       "      <td>59.0</td>\n",
       "    </tr>\n",
       "    <tr>\n",
       "      <th>long</th>\n",
       "      <td>increasing</td>\n",
       "      <td>0.028027</td>\n",
       "      <td>2.196907</td>\n",
       "      <td>0.385621</td>\n",
       "      <td>0.000008</td>\n",
       "      <td>59.0</td>\n",
       "    </tr>\n",
       "    <tr>\n",
       "      <th>world</th>\n",
       "      <td>increasing</td>\n",
       "      <td>0.023047</td>\n",
       "      <td>2.272662</td>\n",
       "      <td>0.398693</td>\n",
       "      <td>0.000024</td>\n",
       "      <td>61.0</td>\n",
       "    </tr>\n",
       "    <tr>\n",
       "      <th>year</th>\n",
       "      <td>increasing</td>\n",
       "      <td>0.015343</td>\n",
       "      <td>2.424173</td>\n",
       "      <td>0.424837</td>\n",
       "      <td>0.000014</td>\n",
       "      <td>65.0</td>\n",
       "    </tr>\n",
       "    <tr>\n",
       "      <th>it's</th>\n",
       "      <td>increasing</td>\n",
       "      <td>0.012422</td>\n",
       "      <td>2.499928</td>\n",
       "      <td>0.437908</td>\n",
       "      <td>0.000056</td>\n",
       "      <td>67.0</td>\n",
       "    </tr>\n",
       "    <tr>\n",
       "      <th>company</th>\n",
       "      <td>increasing</td>\n",
       "      <td>0.008015</td>\n",
       "      <td>2.651439</td>\n",
       "      <td>0.464052</td>\n",
       "      <td>0.000020</td>\n",
       "      <td>71.0</td>\n",
       "    </tr>\n",
       "    <tr>\n",
       "      <th>form</th>\n",
       "      <td>increasing</td>\n",
       "      <td>0.006388</td>\n",
       "      <td>2.727194</td>\n",
       "      <td>0.477124</td>\n",
       "      <td>0.000013</td>\n",
       "      <td>73.0</td>\n",
       "    </tr>\n",
       "    <tr>\n",
       "      <th>felt</th>\n",
       "      <td>increasing</td>\n",
       "      <td>0.003993</td>\n",
       "      <td>2.878705</td>\n",
       "      <td>0.503268</td>\n",
       "      <td>0.000031</td>\n",
       "      <td>77.0</td>\n",
       "    </tr>\n",
       "    <tr>\n",
       "      <th>comedy</th>\n",
       "      <td>increasing</td>\n",
       "      <td>0.003132</td>\n",
       "      <td>2.954461</td>\n",
       "      <td>0.516340</td>\n",
       "      <td>0.000018</td>\n",
       "      <td>79.0</td>\n",
       "    </tr>\n",
       "    <tr>\n",
       "      <th>work</th>\n",
       "      <td>increasing</td>\n",
       "      <td>0.002444</td>\n",
       "      <td>3.030216</td>\n",
       "      <td>0.529412</td>\n",
       "      <td>0.000083</td>\n",
       "      <td>81.0</td>\n",
       "    </tr>\n",
       "    <tr>\n",
       "      <th>light</th>\n",
       "      <td>increasing</td>\n",
       "      <td>0.001897</td>\n",
       "      <td>3.105971</td>\n",
       "      <td>0.542484</td>\n",
       "      <td>0.000011</td>\n",
       "      <td>83.0</td>\n",
       "    </tr>\n",
       "    <tr>\n",
       "      <th>great</th>\n",
       "      <td>increasing</td>\n",
       "      <td>0.001124</td>\n",
       "      <td>3.257482</td>\n",
       "      <td>0.568627</td>\n",
       "      <td>0.000019</td>\n",
       "      <td>87.0</td>\n",
       "    </tr>\n",
       "    <tr>\n",
       "      <th>makes</th>\n",
       "      <td>increasing</td>\n",
       "      <td>0.000152</td>\n",
       "      <td>3.787770</td>\n",
       "      <td>0.660131</td>\n",
       "      <td>0.000031</td>\n",
       "      <td>101.0</td>\n",
       "    </tr>\n",
       "    <tr>\n",
       "      <th>feel</th>\n",
       "      <td>increasing</td>\n",
       "      <td>0.000112</td>\n",
       "      <td>3.863525</td>\n",
       "      <td>0.673203</td>\n",
       "      <td>0.000025</td>\n",
       "      <td>103.0</td>\n",
       "    </tr>\n",
       "  </tbody>\n",
       "</table>\n",
       "</div>"
      ],
      "text/plain": [
       "                 trend         p         z       tau     slope      s\n",
       "woman       decreasing  0.001124 -3.257482 -0.568627 -0.000033  -87.0\n",
       "script      decreasing  0.005064 -2.802950 -0.490196 -0.000039  -75.0\n",
       "real        decreasing  0.008015 -2.651439 -0.464052 -0.000012  -71.0\n",
       "night       decreasing  0.023047 -2.272662 -0.398693 -0.000026  -61.0\n",
       "audience    decreasing  0.033909 -2.121151 -0.372549 -0.000063  -57.0\n",
       "years       increasing  0.048880  1.969640  0.346405  0.000016   53.0\n",
       "place       increasing  0.048880  1.969640  0.346405  0.000010   53.0\n",
       "young       increasing  0.033909  2.121151  0.372549  0.000019   57.0\n",
       "production  increasing  0.028027  2.196907  0.385621  0.000025   59.0\n",
       "long        increasing  0.028027  2.196907  0.385621  0.000008   59.0\n",
       "world       increasing  0.023047  2.272662  0.398693  0.000024   61.0\n",
       "year        increasing  0.015343  2.424173  0.424837  0.000014   65.0\n",
       "it's        increasing  0.012422  2.499928  0.437908  0.000056   67.0\n",
       "company     increasing  0.008015  2.651439  0.464052  0.000020   71.0\n",
       "form        increasing  0.006388  2.727194  0.477124  0.000013   73.0\n",
       "felt        increasing  0.003993  2.878705  0.503268  0.000031   77.0\n",
       "comedy      increasing  0.003132  2.954461  0.516340  0.000018   79.0\n",
       "work        increasing  0.002444  3.030216  0.529412  0.000083   81.0\n",
       "light       increasing  0.001897  3.105971  0.542484  0.000011   83.0\n",
       "great       increasing  0.001124  3.257482  0.568627  0.000019   87.0\n",
       "makes       increasing  0.000152  3.787770  0.660131  0.000031  101.0\n",
       "feel        increasing  0.000112  3.863525  0.673203  0.000025  103.0"
      ]
     },
     "execution_count": 19,
     "metadata": {},
     "output_type": "execute_result"
    }
   ],
   "source": [
    "mk_df.sort_values(\"s\",ascending=True)"
   ]
  },
  {
   "cell_type": "markdown",
   "metadata": {},
   "source": [
    "### 5 Visualization"
   ]
  },
  {
   "cell_type": "markdown",
   "metadata": {},
   "source": [
    "To visualize the temporal pattern of the top 5 words with increasing trends, we assign the top 5 words with the highest *s* value to a variable we will call **increasing**. Then we use the **plot()** function to visualize these words. It is worth noting that we will use **.T** to swap the columns and rows of the dataframe, so that the visualization is easily interpretable."
   ]
  },
  {
   "cell_type": "code",
   "execution_count": 20,
   "metadata": {
    "scrolled": true
   },
   "outputs": [
    {
     "data": {
      "text/plain": [
       "Text(0, 0.5, 'Frequency')"
      ]
     },
     "execution_count": 20,
     "metadata": {},
     "output_type": "execute_result"
    },
    {
     "data": {
      "image/png": "[encoded data removed]",
      "text/plain": [
       "<Figure size 640x480 with 1 Axes>"
      ]
     },
     "metadata": {},
     "output_type": "display_data"
    }
   ],
   "source": [
    "increasing = mk_df.sort_values(\"s\",ascending=False).head(5).index\n",
    "top.loc[increasing].T.plot()\n",
    "\n",
    "#the following instrucitons add labels to the x and y axes\n",
    "plt.xlabel(\"Year\")\n",
    "plt.ylabel(\"Frequency\")"
   ]
  },
  {
   "cell_type": "markdown",
   "metadata": {},
   "source": [
    "Then we do the same thing for the top 5 words with the lowest _s_ values, which we assign to a variable we will call **decreasing**."
   ]
  },
  {
   "cell_type": "code",
   "execution_count": 21,
   "metadata": {},
   "outputs": [
    {
     "data": {
      "text/plain": [
       "Text(0, 0.5, 'Frequency')"
      ]
     },
     "execution_count": 21,
     "metadata": {},
     "output_type": "execute_result"
    },
    {
     "data": {
      "image/png": "[encoded data removed]",
      "text/plain": [
       "<Figure size 640x480 with 1 Axes>"
      ]
     },
     "metadata": {},
     "output_type": "display_data"
    }
   ],
   "source": [
    "decreasing = mk_df.sort_values(\"s\",ascending=True).head().index\n",
    "ax = top.loc[decreasing].T.plot()\n",
    "plt.xlabel(\"Year\")\n",
    "plt.ylabel(\"Frequency\")"
   ]
  }
 ],
 "metadata": {
  "kernelspec": {
   "display_name": "Python 3",
   "language": "python",
   "name": "python3"
  },
  "language_info": {
   "codemirror_mode": {
    "name": "ipython",
    "version": 3
   },
   "file_extension": ".py",
   "mimetype": "text/x-python",
   "name": "python",
   "nbconvert_exporter": "python",
   "pygments_lexer": "ipython3",
   "version": "3.11.5"
  }
 },
 "nbformat": 4,
 "nbformat_minor": 2
}
