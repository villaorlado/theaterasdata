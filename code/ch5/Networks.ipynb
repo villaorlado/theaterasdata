{
 "cells": [
  {
   "cell_type": "markdown",
   "metadata": {},
   "source": [
    "# Network analysis of Javanese _Wayang Kulit_ Networks"
   ]
  },
  {
   "cell_type": "markdown",
   "metadata": {},
   "source": [
    "This is the companion code to Chapter 5 of *Theater as data: Computational Journeys into theater research* (University of Michigan Press, 2021) by [Miguel Escobar Varela](https://miguelescobar.com). \n",
    "\n",
    "The book is openly accessible at https://doi.org/10.3998/mpub.11667458.\n"
   ]
  },
  {
   "cell_type": "markdown",
   "metadata": {},
   "source": [
    "An interactive visualization of the wayang kulit network analyzed here is available at https://villaorlado.github.io/wayangnetworks/html/canonical.html. A video of this visualization is available at Fulcrum."
   ]
  },
  {
   "cell_type": "markdown",
   "metadata": {},
   "source": [
    "### 1 Importing the relevant libraries"
   ]
  },
  {
   "cell_type": "markdown",
   "metadata": {},
   "source": [
    "First, we import [Pandas](https://pandas.pydata.org/) to read the data into dataframes and [Seaborn](https://seaborn.pydata.org/) for the visualizations. We will also use `math` later for some calculations."
   ]
  },
  {
   "cell_type": "code",
   "execution_count": 12,
   "metadata": {},
   "outputs": [],
   "source": [
    "import pandas as pd\n",
    "import seaborn as sns\n",
    "import math"
   ]
  },
  {
   "cell_type": "markdown",
   "metadata": {},
   "source": [
    "### 2 Importing the data"
   ]
  },
  {
   "cell_type": "markdown",
   "metadata": {},
   "source": [
    "We will use the **5.4_wayangNodeInfo.csv** file included under the book's data at Fulcrum. The data was generated in [Gephi](https://gephi.org/). The Gephi file is also available for download from Fulcrum. For more information on how the data was processed, and how each network element relates to the _wayang kulit_ stories please see the Digital Wayang Encyclopedia at https://villaorlado.github.io/wayangnetworks/html/. "
   ]
  },
  {
   "cell_type": "markdown",
   "metadata": {},
   "source": [
    "First, we will read the CSV file into a data frame called **df**. The syntax assumes that the CSV is under a directory called **data/ch5**."
   ]
  },
  {
   "cell_type": "code",
   "execution_count": 3,
   "metadata": {},
   "outputs": [],
   "source": [
    "df = pd.read_csv('../../data/ch5/5_4_wayangNodeInfo.csv')"
   ]
  },
  {
   "cell_type": "markdown",
   "metadata": {},
   "source": [
    "### 3 Exploratory analysis"
   ]
  },
  {
   "cell_type": "markdown",
   "metadata": {},
   "source": [
    "For our initial exploration of the data, we will use two commands: **head()** inspects the first 5 rows of the dataframe, and **describe()** offers summary statistics."
   ]
  },
  {
   "cell_type": "code",
   "execution_count": 4,
   "metadata": {
    "scrolled": false
   },
   "outputs": [
    {
     "data": {
      "text/html": [
       "<div>\n",
       "<style scoped>\n",
       "    .dataframe tbody tr th:only-of-type {\n",
       "        vertical-align: middle;\n",
       "    }\n",
       "\n",
       "    .dataframe tbody tr th {\n",
       "        vertical-align: top;\n",
       "    }\n",
       "\n",
       "    .dataframe thead th {\n",
       "        text-align: right;\n",
       "    }\n",
       "</style>\n",
       "<table border=\"1\" class=\"dataframe\">\n",
       "  <thead>\n",
       "    <tr style=\"text-align: right;\">\n",
       "      <th></th>\n",
       "      <th>id</th>\n",
       "      <th>origin</th>\n",
       "      <th>type</th>\n",
       "      <th>degree</th>\n",
       "      <th>weighted degree</th>\n",
       "      <th>eccentricity</th>\n",
       "      <th>closnesscentrality</th>\n",
       "      <th>harmonicclosnesscentrality</th>\n",
       "      <th>betweenesscentrality</th>\n",
       "      <th>modularity_class</th>\n",
       "      <th>componentnumber</th>\n",
       "      <th>clustering</th>\n",
       "      <th>triangles</th>\n",
       "      <th>eigencentrality</th>\n",
       "    </tr>\n",
       "  </thead>\n",
       "  <tbody>\n",
       "    <tr>\n",
       "      <th>0</th>\n",
       "      <td>Abimanyu</td>\n",
       "      <td>India</td>\n",
       "      <td>Human</td>\n",
       "      <td>68</td>\n",
       "      <td>384.0</td>\n",
       "      <td>2.0</td>\n",
       "      <td>0.651786</td>\n",
       "      <td>0.732877</td>\n",
       "      <td>53.752954</td>\n",
       "      <td>3</td>\n",
       "      <td>0</td>\n",
       "      <td>0.586040</td>\n",
       "      <td>1335</td>\n",
       "      <td>0.651628</td>\n",
       "    </tr>\n",
       "    <tr>\n",
       "      <th>1</th>\n",
       "      <td>Abiyasa</td>\n",
       "      <td>India</td>\n",
       "      <td>Human</td>\n",
       "      <td>69</td>\n",
       "      <td>160.0</td>\n",
       "      <td>2.0</td>\n",
       "      <td>0.654709</td>\n",
       "      <td>0.736301</td>\n",
       "      <td>115.354680</td>\n",
       "      <td>5</td>\n",
       "      <td>0</td>\n",
       "      <td>0.497016</td>\n",
       "      <td>1166</td>\n",
       "      <td>0.610243</td>\n",
       "    </tr>\n",
       "    <tr>\n",
       "      <th>2</th>\n",
       "      <td>Angganjali</td>\n",
       "      <td>Java</td>\n",
       "      <td>Human</td>\n",
       "      <td>24</td>\n",
       "      <td>32.0</td>\n",
       "      <td>2.0</td>\n",
       "      <td>0.544776</td>\n",
       "      <td>0.582192</td>\n",
       "      <td>0.000000</td>\n",
       "      <td>4</td>\n",
       "      <td>0</td>\n",
       "      <td>1.000000</td>\n",
       "      <td>276</td>\n",
       "      <td>0.285077</td>\n",
       "    </tr>\n",
       "    <tr>\n",
       "      <th>3</th>\n",
       "      <td>Anoman</td>\n",
       "      <td>India</td>\n",
       "      <td>Animal</td>\n",
       "      <td>78</td>\n",
       "      <td>347.0</td>\n",
       "      <td>2.0</td>\n",
       "      <td>0.682243</td>\n",
       "      <td>0.767123</td>\n",
       "      <td>92.569783</td>\n",
       "      <td>3</td>\n",
       "      <td>0</td>\n",
       "      <td>0.502165</td>\n",
       "      <td>1508</td>\n",
       "      <td>0.703116</td>\n",
       "    </tr>\n",
       "    <tr>\n",
       "      <th>4</th>\n",
       "      <td>Antaboga</td>\n",
       "      <td>Java</td>\n",
       "      <td>God</td>\n",
       "      <td>40</td>\n",
       "      <td>85.0</td>\n",
       "      <td>2.0</td>\n",
       "      <td>0.579365</td>\n",
       "      <td>0.636986</td>\n",
       "      <td>4.661974</td>\n",
       "      <td>3</td>\n",
       "      <td>0</td>\n",
       "      <td>0.862821</td>\n",
       "      <td>673</td>\n",
       "      <td>0.466900</td>\n",
       "    </tr>\n",
       "  </tbody>\n",
       "</table>\n",
       "</div>"
      ],
      "text/plain": [
       "           id origin    type  degree  weighted degree  eccentricity  \\\n",
       "0    Abimanyu  India   Human      68            384.0           2.0   \n",
       "1     Abiyasa  India   Human      69            160.0           2.0   \n",
       "2  Angganjali   Java   Human      24             32.0           2.0   \n",
       "3      Anoman  India  Animal      78            347.0           2.0   \n",
       "4    Antaboga   Java     God      40             85.0           2.0   \n",
       "\n",
       "   closnesscentrality  harmonicclosnesscentrality  betweenesscentrality  \\\n",
       "0            0.651786                    0.732877             53.752954   \n",
       "1            0.654709                    0.736301            115.354680   \n",
       "2            0.544776                    0.582192              0.000000   \n",
       "3            0.682243                    0.767123             92.569783   \n",
       "4            0.579365                    0.636986              4.661974   \n",
       "\n",
       "   modularity_class  componentnumber  clustering  triangles  eigencentrality  \n",
       "0                 3                0    0.586040       1335         0.651628  \n",
       "1                 5                0    0.497016       1166         0.610243  \n",
       "2                 4                0    1.000000        276         0.285077  \n",
       "3                 3                0    0.502165       1508         0.703116  \n",
       "4                 3                0    0.862821        673         0.466900  "
      ]
     },
     "execution_count": 4,
     "metadata": {},
     "output_type": "execute_result"
    }
   ],
   "source": [
    "df.head()"
   ]
  },
  {
   "cell_type": "code",
   "execution_count": 5,
   "metadata": {
    "scrolled": true
   },
   "outputs": [
    {
     "data": {
      "text/html": [
       "<div>\n",
       "<style scoped>\n",
       "    .dataframe tbody tr th:only-of-type {\n",
       "        vertical-align: middle;\n",
       "    }\n",
       "\n",
       "    .dataframe tbody tr th {\n",
       "        vertical-align: top;\n",
       "    }\n",
       "\n",
       "    .dataframe thead th {\n",
       "        text-align: right;\n",
       "    }\n",
       "</style>\n",
       "<table border=\"1\" class=\"dataframe\">\n",
       "  <thead>\n",
       "    <tr style=\"text-align: right;\">\n",
       "      <th></th>\n",
       "      <th>degree</th>\n",
       "      <th>weighted degree</th>\n",
       "      <th>eccentricity</th>\n",
       "      <th>closnesscentrality</th>\n",
       "      <th>harmonicclosnesscentrality</th>\n",
       "      <th>betweenesscentrality</th>\n",
       "      <th>modularity_class</th>\n",
       "      <th>componentnumber</th>\n",
       "      <th>clustering</th>\n",
       "      <th>triangles</th>\n",
       "      <th>eigencentrality</th>\n",
       "    </tr>\n",
       "  </thead>\n",
       "  <tbody>\n",
       "    <tr>\n",
       "      <th>count</th>\n",
       "      <td>147.000000</td>\n",
       "      <td>147.000000</td>\n",
       "      <td>147.0</td>\n",
       "      <td>147.000000</td>\n",
       "      <td>147.000000</td>\n",
       "      <td>147.000000</td>\n",
       "      <td>147.000000</td>\n",
       "      <td>147.0</td>\n",
       "      <td>147.000000</td>\n",
       "      <td>147.000000</td>\n",
       "      <td>147.000000</td>\n",
       "    </tr>\n",
       "    <tr>\n",
       "      <th>mean</th>\n",
       "      <td>40.857143</td>\n",
       "      <td>115.319728</td>\n",
       "      <td>2.0</td>\n",
       "      <td>0.591799</td>\n",
       "      <td>0.639922</td>\n",
       "      <td>52.571429</td>\n",
       "      <td>3.591837</td>\n",
       "      <td>0.0</td>\n",
       "      <td>0.840175</td>\n",
       "      <td>642.142857</td>\n",
       "      <td>0.400663</td>\n",
       "    </tr>\n",
       "    <tr>\n",
       "      <th>std</th>\n",
       "      <td>29.546805</td>\n",
       "      <td>163.017689</td>\n",
       "      <td>0.0</td>\n",
       "      <td>0.090250</td>\n",
       "      <td>0.101188</td>\n",
       "      <td>129.408855</td>\n",
       "      <td>2.154178</td>\n",
       "      <td>0.0</td>\n",
       "      <td>0.226082</td>\n",
       "      <td>647.380369</td>\n",
       "      <td>0.212890</td>\n",
       "    </tr>\n",
       "    <tr>\n",
       "      <th>min</th>\n",
       "      <td>17.000000</td>\n",
       "      <td>19.000000</td>\n",
       "      <td>2.0</td>\n",
       "      <td>0.530909</td>\n",
       "      <td>0.558219</td>\n",
       "      <td>0.000000</td>\n",
       "      <td>0.000000</td>\n",
       "      <td>0.0</td>\n",
       "      <td>0.286576</td>\n",
       "      <td>136.000000</td>\n",
       "      <td>0.180655</td>\n",
       "    </tr>\n",
       "    <tr>\n",
       "      <th>25%</th>\n",
       "      <td>23.000000</td>\n",
       "      <td>30.000000</td>\n",
       "      <td>2.0</td>\n",
       "      <td>0.542751</td>\n",
       "      <td>0.578767</td>\n",
       "      <td>0.000000</td>\n",
       "      <td>3.000000</td>\n",
       "      <td>0.0</td>\n",
       "      <td>0.722398</td>\n",
       "      <td>253.000000</td>\n",
       "      <td>0.267753</td>\n",
       "    </tr>\n",
       "    <tr>\n",
       "      <th>50%</th>\n",
       "      <td>27.000000</td>\n",
       "      <td>45.000000</td>\n",
       "      <td>2.0</td>\n",
       "      <td>0.550943</td>\n",
       "      <td>0.592466</td>\n",
       "      <td>0.000000</td>\n",
       "      <td>4.000000</td>\n",
       "      <td>0.0</td>\n",
       "      <td>1.000000</td>\n",
       "      <td>351.000000</td>\n",
       "      <td>0.314486</td>\n",
       "    </tr>\n",
       "    <tr>\n",
       "      <th>75%</th>\n",
       "      <td>43.000000</td>\n",
       "      <td>88.500000</td>\n",
       "      <td>2.0</td>\n",
       "      <td>0.586383</td>\n",
       "      <td>0.647260</td>\n",
       "      <td>18.532590</td>\n",
       "      <td>5.000000</td>\n",
       "      <td>0.0</td>\n",
       "      <td>1.000000</td>\n",
       "      <td>650.500000</td>\n",
       "      <td>0.459663</td>\n",
       "    </tr>\n",
       "    <tr>\n",
       "      <th>max</th>\n",
       "      <td>138.000000</td>\n",
       "      <td>734.000000</td>\n",
       "      <td>2.0</td>\n",
       "      <td>0.948052</td>\n",
       "      <td>0.972603</td>\n",
       "      <td>729.472486</td>\n",
       "      <td>6.000000</td>\n",
       "      <td>0.0</td>\n",
       "      <td>1.000000</td>\n",
       "      <td>2709.000000</td>\n",
       "      <td>1.000000</td>\n",
       "    </tr>\n",
       "  </tbody>\n",
       "</table>\n",
       "</div>"
      ],
      "text/plain": [
       "           degree  weighted degree  eccentricity  closnesscentrality  \\\n",
       "count  147.000000       147.000000         147.0          147.000000   \n",
       "mean    40.857143       115.319728           2.0            0.591799   \n",
       "std     29.546805       163.017689           0.0            0.090250   \n",
       "min     17.000000        19.000000           2.0            0.530909   \n",
       "25%     23.000000        30.000000           2.0            0.542751   \n",
       "50%     27.000000        45.000000           2.0            0.550943   \n",
       "75%     43.000000        88.500000           2.0            0.586383   \n",
       "max    138.000000       734.000000           2.0            0.948052   \n",
       "\n",
       "       harmonicclosnesscentrality  betweenesscentrality  modularity_class  \\\n",
       "count                  147.000000            147.000000        147.000000   \n",
       "mean                     0.639922             52.571429          3.591837   \n",
       "std                      0.101188            129.408855          2.154178   \n",
       "min                      0.558219              0.000000          0.000000   \n",
       "25%                      0.578767              0.000000          3.000000   \n",
       "50%                      0.592466              0.000000          4.000000   \n",
       "75%                      0.647260             18.532590          5.000000   \n",
       "max                      0.972603            729.472486          6.000000   \n",
       "\n",
       "       componentnumber  clustering    triangles  eigencentrality  \n",
       "count            147.0  147.000000   147.000000       147.000000  \n",
       "mean               0.0    0.840175   642.142857         0.400663  \n",
       "std                0.0    0.226082   647.380369         0.212890  \n",
       "min                0.0    0.286576   136.000000         0.180655  \n",
       "25%                0.0    0.722398   253.000000         0.267753  \n",
       "50%                0.0    1.000000   351.000000         0.314486  \n",
       "75%                0.0    1.000000   650.500000         0.459663  \n",
       "max                0.0    1.000000  2709.000000         1.000000  "
      ]
     },
     "execution_count": 5,
     "metadata": {},
     "output_type": "execute_result"
    }
   ],
   "source": [
    "df.describe()"
   ]
  },
  {
   "cell_type": "markdown",
   "metadata": {},
   "source": [
    "Using **loc** we can select the subset of the data that meets a certain condition. For example, the characters where the origin is \"India\". "
   ]
  },
  {
   "cell_type": "code",
   "execution_count": 6,
   "metadata": {},
   "outputs": [
    {
     "data": {
      "text/html": [
       "<div>\n",
       "<style scoped>\n",
       "    .dataframe tbody tr th:only-of-type {\n",
       "        vertical-align: middle;\n",
       "    }\n",
       "\n",
       "    .dataframe tbody tr th {\n",
       "        vertical-align: top;\n",
       "    }\n",
       "\n",
       "    .dataframe thead th {\n",
       "        text-align: right;\n",
       "    }\n",
       "</style>\n",
       "<table border=\"1\" class=\"dataframe\">\n",
       "  <thead>\n",
       "    <tr style=\"text-align: right;\">\n",
       "      <th></th>\n",
       "      <th>id</th>\n",
       "      <th>origin</th>\n",
       "      <th>type</th>\n",
       "      <th>degree</th>\n",
       "      <th>weighted degree</th>\n",
       "      <th>eccentricity</th>\n",
       "      <th>closnesscentrality</th>\n",
       "      <th>harmonicclosnesscentrality</th>\n",
       "      <th>betweenesscentrality</th>\n",
       "      <th>modularity_class</th>\n",
       "      <th>componentnumber</th>\n",
       "      <th>clustering</th>\n",
       "      <th>triangles</th>\n",
       "      <th>eigencentrality</th>\n",
       "    </tr>\n",
       "  </thead>\n",
       "  <tbody>\n",
       "    <tr>\n",
       "      <th>0</th>\n",
       "      <td>Abimanyu</td>\n",
       "      <td>India</td>\n",
       "      <td>Human</td>\n",
       "      <td>68</td>\n",
       "      <td>384.0</td>\n",
       "      <td>2.0</td>\n",
       "      <td>0.651786</td>\n",
       "      <td>0.732877</td>\n",
       "      <td>53.752954</td>\n",
       "      <td>3</td>\n",
       "      <td>0</td>\n",
       "      <td>0.586040</td>\n",
       "      <td>1335</td>\n",
       "      <td>0.651628</td>\n",
       "    </tr>\n",
       "    <tr>\n",
       "      <th>1</th>\n",
       "      <td>Abiyasa</td>\n",
       "      <td>India</td>\n",
       "      <td>Human</td>\n",
       "      <td>69</td>\n",
       "      <td>160.0</td>\n",
       "      <td>2.0</td>\n",
       "      <td>0.654709</td>\n",
       "      <td>0.736301</td>\n",
       "      <td>115.354680</td>\n",
       "      <td>5</td>\n",
       "      <td>0</td>\n",
       "      <td>0.497016</td>\n",
       "      <td>1166</td>\n",
       "      <td>0.610243</td>\n",
       "    </tr>\n",
       "    <tr>\n",
       "      <th>3</th>\n",
       "      <td>Anoman</td>\n",
       "      <td>India</td>\n",
       "      <td>Animal</td>\n",
       "      <td>78</td>\n",
       "      <td>347.0</td>\n",
       "      <td>2.0</td>\n",
       "      <td>0.682243</td>\n",
       "      <td>0.767123</td>\n",
       "      <td>92.569783</td>\n",
       "      <td>3</td>\n",
       "      <td>0</td>\n",
       "      <td>0.502165</td>\n",
       "      <td>1508</td>\n",
       "      <td>0.703116</td>\n",
       "    </tr>\n",
       "    <tr>\n",
       "      <th>8</th>\n",
       "      <td>Arimbi</td>\n",
       "      <td>India</td>\n",
       "      <td>Raksasa</td>\n",
       "      <td>45</td>\n",
       "      <td>102.0</td>\n",
       "      <td>2.0</td>\n",
       "      <td>0.591093</td>\n",
       "      <td>0.654110</td>\n",
       "      <td>18.672180</td>\n",
       "      <td>0</td>\n",
       "      <td>0</td>\n",
       "      <td>0.712121</td>\n",
       "      <td>705</td>\n",
       "      <td>0.470388</td>\n",
       "    </tr>\n",
       "    <tr>\n",
       "      <th>9</th>\n",
       "      <td>Arjuna</td>\n",
       "      <td>India</td>\n",
       "      <td>Human</td>\n",
       "      <td>125</td>\n",
       "      <td>715.0</td>\n",
       "      <td>2.0</td>\n",
       "      <td>0.874251</td>\n",
       "      <td>0.928082</td>\n",
       "      <td>480.944638</td>\n",
       "      <td>0</td>\n",
       "      <td>0</td>\n",
       "      <td>0.320516</td>\n",
       "      <td>2484</td>\n",
       "      <td>0.956312</td>\n",
       "    </tr>\n",
       "    <tr>\n",
       "      <th>...</th>\n",
       "      <td>...</td>\n",
       "      <td>...</td>\n",
       "      <td>...</td>\n",
       "      <td>...</td>\n",
       "      <td>...</td>\n",
       "      <td>...</td>\n",
       "      <td>...</td>\n",
       "      <td>...</td>\n",
       "      <td>...</td>\n",
       "      <td>...</td>\n",
       "      <td>...</td>\n",
       "      <td>...</td>\n",
       "      <td>...</td>\n",
       "      <td>...</td>\n",
       "    </tr>\n",
       "    <tr>\n",
       "      <th>134</th>\n",
       "      <td>Ugrasena</td>\n",
       "      <td>India</td>\n",
       "      <td>Human</td>\n",
       "      <td>46</td>\n",
       "      <td>79.0</td>\n",
       "      <td>2.0</td>\n",
       "      <td>0.593496</td>\n",
       "      <td>0.657534</td>\n",
       "      <td>37.469238</td>\n",
       "      <td>5</td>\n",
       "      <td>0</td>\n",
       "      <td>0.620290</td>\n",
       "      <td>642</td>\n",
       "      <td>0.348632</td>\n",
       "    </tr>\n",
       "    <tr>\n",
       "      <th>136</th>\n",
       "      <td>Werkudara</td>\n",
       "      <td>India</td>\n",
       "      <td>Human</td>\n",
       "      <td>116</td>\n",
       "      <td>734.0</td>\n",
       "      <td>2.0</td>\n",
       "      <td>0.829545</td>\n",
       "      <td>0.897260</td>\n",
       "      <td>321.308587</td>\n",
       "      <td>0</td>\n",
       "      <td>0</td>\n",
       "      <td>0.348576</td>\n",
       "      <td>2325</td>\n",
       "      <td>0.914203</td>\n",
       "    </tr>\n",
       "    <tr>\n",
       "      <th>140</th>\n",
       "      <td>Wisnu</td>\n",
       "      <td>India</td>\n",
       "      <td>God</td>\n",
       "      <td>30</td>\n",
       "      <td>47.0</td>\n",
       "      <td>2.0</td>\n",
       "      <td>0.557252</td>\n",
       "      <td>0.602740</td>\n",
       "      <td>1.150099</td>\n",
       "      <td>3</td>\n",
       "      <td>0</td>\n",
       "      <td>0.928736</td>\n",
       "      <td>404</td>\n",
       "      <td>0.371830</td>\n",
       "    </tr>\n",
       "    <tr>\n",
       "      <th>143</th>\n",
       "      <td>Yamadipati</td>\n",
       "      <td>India</td>\n",
       "      <td>God</td>\n",
       "      <td>24</td>\n",
       "      <td>28.0</td>\n",
       "      <td>2.0</td>\n",
       "      <td>0.544776</td>\n",
       "      <td>0.582192</td>\n",
       "      <td>0.000000</td>\n",
       "      <td>3</td>\n",
       "      <td>0</td>\n",
       "      <td>1.000000</td>\n",
       "      <td>276</td>\n",
       "      <td>0.319610</td>\n",
       "    </tr>\n",
       "    <tr>\n",
       "      <th>144</th>\n",
       "      <td>Yamawidura</td>\n",
       "      <td>India</td>\n",
       "      <td>Human</td>\n",
       "      <td>23</td>\n",
       "      <td>26.0</td>\n",
       "      <td>2.0</td>\n",
       "      <td>0.542751</td>\n",
       "      <td>0.578767</td>\n",
       "      <td>0.000000</td>\n",
       "      <td>5</td>\n",
       "      <td>0</td>\n",
       "      <td>1.000000</td>\n",
       "      <td>253</td>\n",
       "      <td>0.190020</td>\n",
       "    </tr>\n",
       "  </tbody>\n",
       "</table>\n",
       "<p>77 rows × 14 columns</p>\n",
       "</div>"
      ],
      "text/plain": [
       "             id origin     type  degree  weighted degree  eccentricity  \\\n",
       "0      Abimanyu  India    Human      68            384.0           2.0   \n",
       "1       Abiyasa  India    Human      69            160.0           2.0   \n",
       "3        Anoman  India   Animal      78            347.0           2.0   \n",
       "8        Arimbi  India  Raksasa      45            102.0           2.0   \n",
       "9        Arjuna  India    Human     125            715.0           2.0   \n",
       "..          ...    ...      ...     ...              ...           ...   \n",
       "134    Ugrasena  India    Human      46             79.0           2.0   \n",
       "136   Werkudara  India    Human     116            734.0           2.0   \n",
       "140       Wisnu  India      God      30             47.0           2.0   \n",
       "143  Yamadipati  India      God      24             28.0           2.0   \n",
       "144  Yamawidura  India    Human      23             26.0           2.0   \n",
       "\n",
       "     closnesscentrality  harmonicclosnesscentrality  betweenesscentrality  \\\n",
       "0              0.651786                    0.732877             53.752954   \n",
       "1              0.654709                    0.736301            115.354680   \n",
       "3              0.682243                    0.767123             92.569783   \n",
       "8              0.591093                    0.654110             18.672180   \n",
       "9              0.874251                    0.928082            480.944638   \n",
       "..                  ...                         ...                   ...   \n",
       "134            0.593496                    0.657534             37.469238   \n",
       "136            0.829545                    0.897260            321.308587   \n",
       "140            0.557252                    0.602740              1.150099   \n",
       "143            0.544776                    0.582192              0.000000   \n",
       "144            0.542751                    0.578767              0.000000   \n",
       "\n",
       "     modularity_class  componentnumber  clustering  triangles  eigencentrality  \n",
       "0                   3                0    0.586040       1335         0.651628  \n",
       "1                   5                0    0.497016       1166         0.610243  \n",
       "3                   3                0    0.502165       1508         0.703116  \n",
       "8                   0                0    0.712121        705         0.470388  \n",
       "9                   0                0    0.320516       2484         0.956312  \n",
       "..                ...              ...         ...        ...              ...  \n",
       "134                 5                0    0.620290        642         0.348632  \n",
       "136                 0                0    0.348576       2325         0.914203  \n",
       "140                 3                0    0.928736        404         0.371830  \n",
       "143                 3                0    1.000000        276         0.319610  \n",
       "144                 5                0    1.000000        253         0.190020  \n",
       "\n",
       "[77 rows x 14 columns]"
      ]
     },
     "execution_count": 6,
     "metadata": {},
     "output_type": "execute_result"
    }
   ],
   "source": [
    "df.loc[df.origin == \"India\"]"
   ]
  },
  {
   "cell_type": "markdown",
   "metadata": {},
   "source": [
    "Then we can obtain the arithmetic mean for the \"weighted degree\" column in the dataframe."
   ]
  },
  {
   "cell_type": "code",
   "execution_count": 8,
   "metadata": {
    "scrolled": true
   },
   "outputs": [
    {
     "data": {
      "text/plain": [
       "153.46753246753246"
      ]
     },
     "execution_count": 8,
     "metadata": {},
     "output_type": "execute_result"
    }
   ],
   "source": [
    "df.loc[df.origin == \"India\"][\"weighted degree\"].mean()"
   ]
  },
  {
   "cell_type": "markdown",
   "metadata": {},
   "source": [
    "We can then compare this with characters of Javanese origin."
   ]
  },
  {
   "cell_type": "code",
   "execution_count": 9,
   "metadata": {
    "scrolled": true
   },
   "outputs": [
    {
     "data": {
      "text/plain": [
       "73.35714285714286"
      ]
     },
     "execution_count": 9,
     "metadata": {},
     "output_type": "execute_result"
    }
   ],
   "source": [
    "df.loc[df.origin == \"Java\"][\"weighted degree\"].mean()"
   ]
  },
  {
   "cell_type": "markdown",
   "metadata": {},
   "source": [
    "To get the proportion of Indian-derived characters, we then divide the amount of characters where the origin is \"India\" by the total row count."
   ]
  },
  {
   "cell_type": "code",
   "execution_count": 10,
   "metadata": {
    "scrolled": false
   },
   "outputs": [
    {
     "data": {
      "text/plain": [
       "0.5238095238095238"
      ]
     },
     "execution_count": 10,
     "metadata": {},
     "output_type": "execute_result"
    }
   ],
   "source": [
    "df.loc[df.origin == \"India\"][\"id\"].count() / df[\"id\"].count()"
   ]
  },
  {
   "cell_type": "markdown",
   "metadata": {},
   "source": [
    "The numbes above show that the Indian characters make up **52.4%** of the data. Their average degree is **48.4** while the average degree of Javanese characters is **32.5**."
   ]
  },
  {
   "cell_type": "markdown",
   "metadata": {},
   "source": [
    "To calculate Cohen's *d* for effect size, we can use the following code from:\n",
    "\n",
    "Downey, Allen. 2014. *Think Stats: Exploratory Data Analysis in Python.* Open Textbook Library. Needham: Green Tea Press.\n"
   ]
  },
  {
   "cell_type": "code",
   "execution_count": 13,
   "metadata": {},
   "outputs": [],
   "source": [
    "def CohenEffectSize(group1, group2):\n",
    "    diff = group1.mean() - group2.mean()\n",
    "    var1 = group1.var()\n",
    "    var2 = group2.var()\n",
    "    n1, n2 = len(group1), len(group2)\n",
    "    pooled_var = (n1 * var1 + n2 * var2) / (n1 + n2)\n",
    "    d = diff / math.sqrt(pooled_var)\n",
    "    return d"
   ]
  },
  {
   "cell_type": "markdown",
   "metadata": {},
   "source": [
    "We then assign the degrees of Indian characters to the variable **India** and the degrees of Javanese characters to the variable **Java**. We then pass these variables to the newly created **CohenEffectSize** function."
   ]
  },
  {
   "cell_type": "code",
   "execution_count": 14,
   "metadata": {},
   "outputs": [
    {
     "data": {
      "text/plain": [
       "0.5053629835470679"
      ]
     },
     "execution_count": 14,
     "metadata": {},
     "output_type": "execute_result"
    }
   ],
   "source": [
    "India= df.loc[df.origin == \"India\"][\"weighted degree\"]\n",
    "Java= df.loc[df.origin == \"Java\"][\"weighted degree\"]\n",
    "CohenEffectSize(India,Java)"
   ]
  },
  {
   "cell_type": "markdown",
   "metadata": {},
   "source": [
    "This number shows that the difference in means between Indian and Javanese characters is **0.55** standard deviations. See Chapter 5 of _Theater as data_ for an interpretation of this result."
   ]
  },
  {
   "cell_type": "markdown",
   "metadata": {},
   "source": [
    "### 4 Visualization"
   ]
  },
  {
   "cell_type": "markdown",
   "metadata": {},
   "source": [
    "We are interested in generating a pairplot that compares weighted degree, betweenness centrality, and eigencentrality. We also want to group the datapoints by character origin (India and Java). First, we need to create a new dataframe, **wayang_subset** that only keeps the columns of interest."
   ]
  },
  {
   "cell_type": "code",
   "execution_count": 15,
   "metadata": {},
   "outputs": [],
   "source": [
    "wayang_subset = df[[\"weighted degree\",\"betweenesscentrality\",\"eigencentrality\",\"origin\"]]"
   ]
  },
  {
   "cell_type": "markdown",
   "metadata": {},
   "source": [
    "Then we use the seaborn **pairplot** function to visually compare the data in the different columns. We assign \"origin\" to the **hue** parameter, in order to separate characters of Javanese and Indian origin."
   ]
  },
  {
   "cell_type": "code",
   "execution_count": 16,
   "metadata": {},
   "outputs": [
    {
     "data": {
      "text/plain": [
       "<seaborn.axisgrid.PairGrid at 0x14c55c590>"
      ]
     },
     "execution_count": 16,
     "metadata": {},
     "output_type": "execute_result"
    },
    {
     "data": {
      "image/png": "[encoded data removed]",
      "text/plain": [
       "<Figure size 834.125x750 with 12 Axes>"
      ]
     },
     "metadata": {},
     "output_type": "display_data"
    }
   ],
   "source": [
    "sns.pairplot(wayang_subset, hue=\"origin\")"
   ]
  }
 ],
 "metadata": {
  "kernelspec": {
   "display_name": "Python 3",
   "language": "python",
   "name": "python3"
  },
  "language_info": {
   "codemirror_mode": {
    "name": "ipython",
    "version": 3
   },
   "file_extension": ".py",
   "mimetype": "text/x-python",
   "name": "python",
   "nbconvert_exporter": "python",
   "pygments_lexer": "ipython3",
   "version": "3.11.5"
  }
 },
 "nbformat": 4,
 "nbformat_minor": 2
}
