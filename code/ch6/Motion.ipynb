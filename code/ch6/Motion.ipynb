{
 "cells": [
  {
   "cell_type": "markdown",
   "metadata": {},
   "source": [
    "# Motion analysis of _Wayang Mitologi_"
   ]
  },
  {
   "cell_type": "markdown",
   "metadata": {},
   "source": [
    "By Miguel Escobar Varela.\n",
    "\n",
    "This is the companion code to Chapter 4 of my book _Theater as data: Computational Journeys into theater research_ (University of Michigan Press, 2021).\n",
    "\n",
    "The book is openly accessible at https://doi.org/10.3998/mpub.11667458."
   ]
  },
  {
   "cell_type": "markdown",
   "metadata": {},
   "source": [
    "### *About Juypter and Python*"
   ]
  },
  {
   "cell_type": "markdown",
   "metadata": {},
   "source": [
    "The following is written as a step-by-step tutorial for users who want to reproduce the results presented in my book.\n",
    "\n",
    "This is an interactive Jupyter Notebook. For users not familiar with Python and Jupyter I recommend \n",
    "Allen Downey's excellent introductory materials at https://allendowney.github.io/ElementsOfDataScience/."
   ]
  },
  {
   "cell_type": "markdown",
   "metadata": {},
   "source": [
    "### 1 Importing the relevant libraries"
   ]
  },
  {
   "cell_type": "markdown",
   "metadata": {},
   "source": [
    "First, we import [Pandas](https://pandas.pydata.org/) to read the data into dataframes and [Seaborn](https://seaborn.pydata.org/) for the visualizations."
   ]
  },
  {
   "cell_type": "code",
   "execution_count": 1,
   "metadata": {},
   "outputs": [],
   "source": [
    "import pandas as pd\n",
    "import seaborn as sns"
   ]
  },
  {
   "cell_type": "markdown",
   "metadata": {},
   "source": [
    "### 2 Importing the data"
   ]
  },
  {
   "cell_type": "markdown",
   "metadata": {},
   "source": [
    "We will use the **6.1_mitologiImageDifference.csv** file included under the book's data at Fulcrum."
   ]
  },
  {
   "cell_type": "markdown",
   "metadata": {},
   "source": [
    "This file includes the number of pixels in each difference image of _Wayang Mitologi_. The video was processed by Gea Oswah Fatah Parikesit using Scilab and the Scilab Image and Video Processing Toolbox (SIVP). In the video recording of Wayang Mitologi, the noise level is10 greyvalues, so we only consider pixels with greyvalues higher than 10 as the non-static pixels. This was checked by recording two dark images and measuring the greyvalues of the supposedly dark pixels. The video is 69 minutes long. We obtained 1000 images per minute, and then sampled one out of each 150 difference images, which corresponds to ~ 0.1 min. The file indicates how each of the 460 difference images corresponds to the 69,652 frame numbers and the 69 minutes.\n",
    "\n",
    "Full details of the context of this research process are availagle in Chapter 5 of _Theater as Data_."
   ]
  },
  {
   "cell_type": "markdown",
   "metadata": {},
   "source": [
    "The video of _Wayang Mitologi_ is freely available at http://cwa-web.org/en/WayangMitologi.\n",
    "\n",
    "Catur Kuncoro ([2012] 2016), _Wayang Mitologi_ [Mythological Wayang], translation and notes by Miguel Escobar Varela and Indraswari Kusumaningtyas. Singapore: Contemporary Wayang Archive."
   ]
  },
  {
   "cell_type": "markdown",
   "metadata": {},
   "source": [
    "With the following code, we will read the CSV file into a data frame called **df**. The syntax assumes that the CSV is under a directory called **data/ch6**."
   ]
  },
  {
   "cell_type": "code",
   "execution_count": 13,
   "metadata": {},
   "outputs": [],
   "source": [
    "df = pd.read_csv(\"../../data/ch6/6_1_mitologiImageDifference.csv\")"
   ]
  },
  {
   "cell_type": "markdown",
   "metadata": {},
   "source": [
    "To get a sense of the data, we can use the **head()** function to display the first 5 rows of the dataframe."
   ]
  },
  {
   "cell_type": "code",
   "execution_count": 14,
   "metadata": {
    "scrolled": true
   },
   "outputs": [
    {
     "data": {
      "text/html": [
       "<div>\n",
       "<style scoped>\n",
       "    .dataframe tbody tr th:only-of-type {\n",
       "        vertical-align: middle;\n",
       "    }\n",
       "\n",
       "    .dataframe tbody tr th {\n",
       "        vertical-align: top;\n",
       "    }\n",
       "\n",
       "    .dataframe thead th {\n",
       "        text-align: right;\n",
       "    }\n",
       "</style>\n",
       "<table border=\"1\" class=\"dataframe\">\n",
       "  <thead>\n",
       "    <tr style=\"text-align: right;\">\n",
       "      <th></th>\n",
       "      <th>Time</th>\n",
       "      <th>Image difference number</th>\n",
       "      <th>Frame number</th>\n",
       "      <th>Non-identical pixels</th>\n",
       "      <th>Scene Number</th>\n",
       "      <th>Scene Type</th>\n",
       "    </tr>\n",
       "  </thead>\n",
       "  <tbody>\n",
       "    <tr>\n",
       "      <th>0</th>\n",
       "      <td>00:00:00</td>\n",
       "      <td>0</td>\n",
       "      <td>0</td>\n",
       "      <td>0.000000</td>\n",
       "      <td>1</td>\n",
       "      <td>frame</td>\n",
       "    </tr>\n",
       "    <tr>\n",
       "      <th>1</th>\n",
       "      <td>00:00:09</td>\n",
       "      <td>1</td>\n",
       "      <td>150</td>\n",
       "      <td>343.666667</td>\n",
       "      <td>1</td>\n",
       "      <td>frame</td>\n",
       "    </tr>\n",
       "    <tr>\n",
       "      <th>2</th>\n",
       "      <td>00:00:18</td>\n",
       "      <td>2</td>\n",
       "      <td>300</td>\n",
       "      <td>772.333333</td>\n",
       "      <td>1</td>\n",
       "      <td>frame</td>\n",
       "    </tr>\n",
       "    <tr>\n",
       "      <th>3</th>\n",
       "      <td>00:00:27</td>\n",
       "      <td>3</td>\n",
       "      <td>450</td>\n",
       "      <td>62.333333</td>\n",
       "      <td>1</td>\n",
       "      <td>frame</td>\n",
       "    </tr>\n",
       "    <tr>\n",
       "      <th>4</th>\n",
       "      <td>00:00:36</td>\n",
       "      <td>4</td>\n",
       "      <td>600</td>\n",
       "      <td>220.000000</td>\n",
       "      <td>1</td>\n",
       "      <td>frame</td>\n",
       "    </tr>\n",
       "  </tbody>\n",
       "</table>\n",
       "</div>"
      ],
      "text/plain": [
       "       Time  Image difference number  Frame number  Non-identical pixels  \\\n",
       "0  00:00:00                        0             0              0.000000   \n",
       "1  00:00:09                        1           150            343.666667   \n",
       "2  00:00:18                        2           300            772.333333   \n",
       "3  00:00:27                        3           450             62.333333   \n",
       "4  00:00:36                        4           600            220.000000   \n",
       "\n",
       "   Scene Number Scene Type  \n",
       "0             1      frame  \n",
       "1             1      frame  \n",
       "2             1      frame  \n",
       "3             1      frame  \n",
       "4             1      frame  "
      ]
     },
     "execution_count": 14,
     "metadata": {},
     "output_type": "execute_result"
    }
   ],
   "source": [
    "df.head()"
   ]
  },
  {
   "cell_type": "markdown",
   "metadata": {},
   "source": [
    "### 3 Visualization"
   ]
  },
  {
   "cell_type": "markdown",
   "metadata": {},
   "source": [
    "Using the **lineplot** function from Seaborn, we can visualize the number of Non-identical pixels as a function of the \"Frame number\"."
   ]
  },
  {
   "cell_type": "code",
   "execution_count": 4,
   "metadata": {
    "scrolled": false
   },
   "outputs": [
    {
     "data": {
      "text/plain": [
       "<Axes: xlabel='Frame number', ylabel='Non-identical pixels'>"
      ]
     },
     "execution_count": 4,
     "metadata": {},
     "output_type": "execute_result"
    },
    {
     "data": {
      "image/png": "[encoded data removed]",
      "text/plain": [
       "<Figure size 640x480 with 1 Axes>"
      ]
     },
     "metadata": {},
     "output_type": "display_data"
    }
   ],
   "source": [
    "sns.lineplot(y=\"Non-identical pixels\",x=\"Frame number\",data=df)"
   ]
  },
  {
   "cell_type": "markdown",
   "metadata": {},
   "source": [
    "As described in Chapter 6, _Wayang Mitologi_ includes different types of scenes. To get a sense of how the amount of motion varies accross these different scenes, we can create a scatterplot that compares the scenes' motion in terms of avarage and standard deviation. "
   ]
  },
  {
   "cell_type": "markdown",
   "metadata": {},
   "source": [
    "We only need the columns \"Scene Number\", \"Scene Type\" and \"Non-identical pixels\" for this purpose, and we can remove all other columns with the following instruction."
   ]
  },
  {
   "cell_type": "code",
   "execution_count": 5,
   "metadata": {},
   "outputs": [],
   "source": [
    "df.drop([\"Time\",\"Image difference number\",\"Frame number\"], axis=1, inplace=True)"
   ]
  },
  {
   "cell_type": "markdown",
   "metadata": {},
   "source": [
    "Using **groupby()** and **mean()** we can calculate the arithmetic mean of \"Non-identical pixels\" for each scene, and assign these results to a new dataframe that we will call **mean**."
   ]
  },
  {
   "cell_type": "code",
   "execution_count": 6,
   "metadata": {},
   "outputs": [],
   "source": [
    "mean = df.groupby(['Scene Number','Scene Type']).mean()"
   ]
  },
  {
   "cell_type": "markdown",
   "metadata": {},
   "source": [
    "The following instruciton displays the result."
   ]
  },
  {
   "cell_type": "code",
   "execution_count": 7,
   "metadata": {
    "scrolled": true
   },
   "outputs": [
    {
     "data": {
      "text/html": [
       "<div>\n",
       "<style scoped>\n",
       "    .dataframe tbody tr th:only-of-type {\n",
       "        vertical-align: middle;\n",
       "    }\n",
       "\n",
       "    .dataframe tbody tr th {\n",
       "        vertical-align: top;\n",
       "    }\n",
       "\n",
       "    .dataframe thead th {\n",
       "        text-align: right;\n",
       "    }\n",
       "</style>\n",
       "<table border=\"1\" class=\"dataframe\">\n",
       "  <thead>\n",
       "    <tr style=\"text-align: right;\">\n",
       "      <th></th>\n",
       "      <th></th>\n",
       "      <th>Non-identical pixels</th>\n",
       "    </tr>\n",
       "    <tr>\n",
       "      <th>Scene Number</th>\n",
       "      <th>Scene Type</th>\n",
       "      <th></th>\n",
       "    </tr>\n",
       "  </thead>\n",
       "  <tbody>\n",
       "    <tr>\n",
       "      <th>1</th>\n",
       "      <th>frame</th>\n",
       "      <td>279.653846</td>\n",
       "    </tr>\n",
       "    <tr>\n",
       "      <th>2</th>\n",
       "      <th>normal</th>\n",
       "      <td>734.476190</td>\n",
       "    </tr>\n",
       "    <tr>\n",
       "      <th>3</th>\n",
       "      <th>normal</th>\n",
       "      <td>586.328283</td>\n",
       "    </tr>\n",
       "    <tr>\n",
       "      <th>4</th>\n",
       "      <th>normal</th>\n",
       "      <td>692.026667</td>\n",
       "    </tr>\n",
       "    <tr>\n",
       "      <th>5</th>\n",
       "      <th>normal</th>\n",
       "      <td>1285.373333</td>\n",
       "    </tr>\n",
       "    <tr>\n",
       "      <th>6</th>\n",
       "      <th>narrative</th>\n",
       "      <td>1868.400000</td>\n",
       "    </tr>\n",
       "    <tr>\n",
       "      <th>7</th>\n",
       "      <th>comic</th>\n",
       "      <td>747.296078</td>\n",
       "    </tr>\n",
       "    <tr>\n",
       "      <th>8</th>\n",
       "      <th>narrative</th>\n",
       "      <td>1989.706667</td>\n",
       "    </tr>\n",
       "    <tr>\n",
       "      <th>9</th>\n",
       "      <th>frame</th>\n",
       "      <td>292.235556</td>\n",
       "    </tr>\n",
       "  </tbody>\n",
       "</table>\n",
       "</div>"
      ],
      "text/plain": [
       "                         Non-identical pixels\n",
       "Scene Number Scene Type                      \n",
       "1            frame                 279.653846\n",
       "2            normal                734.476190\n",
       "3            normal                586.328283\n",
       "4            normal                692.026667\n",
       "5            normal               1285.373333\n",
       "6            narrative            1868.400000\n",
       "7            comic                 747.296078\n",
       "8            narrative            1989.706667\n",
       "9            frame                 292.235556"
      ]
     },
     "execution_count": 7,
     "metadata": {},
     "output_type": "execute_result"
    }
   ],
   "source": [
    "mean"
   ]
  },
  {
   "cell_type": "markdown",
   "metadata": {},
   "source": [
    "The name of the column with the arithmetic mean values is confusing, so we will rename it to \"mean\"."
   ]
  },
  {
   "cell_type": "code",
   "execution_count": 8,
   "metadata": {
    "scrolled": true
   },
   "outputs": [],
   "source": [
    "mean.rename(columns={\"Non-identical pixels\": \"mean\"},inplace=True)"
   ]
  },
  {
   "cell_type": "markdown",
   "metadata": {},
   "source": [
    "Then we repeat the same process for standard deviation, using the function **std()**."
   ]
  },
  {
   "cell_type": "code",
   "execution_count": 9,
   "metadata": {},
   "outputs": [],
   "source": [
    "std = df.groupby(['Scene Number','Scene Type']).std()\n",
    "std.rename(columns={\"Non-identical pixels\": \"std\"},inplace=True)"
   ]
  },
  {
   "cell_type": "markdown",
   "metadata": {},
   "source": [
    "We now have two dataframes, one that includes the arithmetic mean for each scene and one that includes the standard deviation for each scene. To combine them, we use the function **concat()** and assign the result to a new dataframe, which we will call **mean_and_std**."
   ]
  },
  {
   "cell_type": "code",
   "execution_count": 10,
   "metadata": {},
   "outputs": [],
   "source": [
    "mean_and_std = pd.concat([mean,std], axis=1)"
   ]
  },
  {
   "cell_type": "markdown",
   "metadata": {},
   "source": [
    "We need to reset the index so that we can use \"Scene Type\" as a variable to determine the hues of the points in the scatterplot."
   ]
  },
  {
   "cell_type": "code",
   "execution_count": 11,
   "metadata": {
    "scrolled": false
   },
   "outputs": [],
   "source": [
    "mean_and_std.reset_index(\"Scene Type\",inplace=True)"
   ]
  },
  {
   "cell_type": "markdown",
   "metadata": {},
   "source": [
    "Finally, we can use the **scatterplot()** function from Seaborn to compare each scene in terms of both arithmetic mean and standard deviation. To see how the type of scene affects these values, we set the hue parameter to \"Scene Type\"."
   ]
  },
  {
   "cell_type": "code",
   "execution_count": 12,
   "metadata": {
    "scrolled": false
   },
   "outputs": [
    {
     "data": {
      "text/plain": [
       "<Axes: xlabel='mean', ylabel='std'>"
      ]
     },
     "execution_count": 12,
     "metadata": {},
     "output_type": "execute_result"
    },
    {
     "data": {
      "image/png": "[encoded data removed]",
      "text/plain": [
       "<Figure size 640x480 with 1 Axes>"
      ]
     },
     "metadata": {},
     "output_type": "display_data"
    }
   ],
   "source": [
    "sns.scatterplot(x=\"mean\", y=\"std\", hue=\"Scene Type\", data=mean_and_std)"
   ]
  },
  {
   "cell_type": "markdown",
   "metadata": {},
   "source": [
    "**NOTE:** The image in the book was reformatted with other symbols, so that it would be interpretable as a black and white image."
   ]
  }
 ],
 "metadata": {
  "kernelspec": {
   "display_name": "Python 3",
   "language": "python",
   "name": "python3"
  },
  "language_info": {
   "codemirror_mode": {
    "name": "ipython",
    "version": 3
   },
   "file_extension": ".py",
   "mimetype": "text/x-python",
   "name": "python",
   "nbconvert_exporter": "python",
   "pygments_lexer": "ipython3",
   "version": "3.11.5"
  }
 },
 "nbformat": 4,
 "nbformat_minor": 2
}
